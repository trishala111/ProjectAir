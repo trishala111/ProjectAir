{
 "cells": [
  {
   "cell_type": "code",
   "execution_count": 18,
   "metadata": {},
   "outputs": [],
   "source": [
    "import pandas as pd\n",
    "import plotly\n",
    "import plotly.express as px"
   ]
  },
  {
   "cell_type": "code",
   "execution_count": 19,
   "metadata": {},
   "outputs": [
    {
     "data": {
      "text/html": [
       "<div>\n",
       "<style scoped>\n",
       "    .dataframe tbody tr th:only-of-type {\n",
       "        vertical-align: middle;\n",
       "    }\n",
       "\n",
       "    .dataframe tbody tr th {\n",
       "        vertical-align: top;\n",
       "    }\n",
       "\n",
       "    .dataframe thead th {\n",
       "        text-align: right;\n",
       "    }\n",
       "</style>\n",
       "<table border=\"1\" class=\"dataframe\">\n",
       "  <thead>\n",
       "    <tr style=\"text-align: right;\">\n",
       "      <th></th>\n",
       "      <th>AOI</th>\n",
       "      <th>Country</th>\n",
       "      <th>Region</th>\n",
       "      <th>City</th>\n",
       "      <th>Site Name</th>\n",
       "      <th>Description</th>\n",
       "      <th>Method</th>\n",
       "      <th>EO Sensor</th>\n",
       "      <th>Input Data</th>\n",
       "      <th>Indicator code</th>\n",
       "      <th>...</th>\n",
       "      <th>Reference value</th>\n",
       "      <th>Rule</th>\n",
       "      <th>Indicator Value</th>\n",
       "      <th>Sub-AOI</th>\n",
       "      <th>Y axis</th>\n",
       "      <th>Indicator Name</th>\n",
       "      <th>Color code</th>\n",
       "      <th>Data Provider</th>\n",
       "      <th>AOI_ID</th>\n",
       "      <th>Update Frequency</th>\n",
       "    </tr>\n",
       "  </thead>\n",
       "  <tbody>\n",
       "    <tr>\n",
       "      <th>0</th>\n",
       "      <td>39.9,116.38</td>\n",
       "      <td>CN</td>\n",
       "      <td>NaN</td>\n",
       "      <td>Beijing</td>\n",
       "      <td>Beijing</td>\n",
       "      <td>Greenhouse Gases</td>\n",
       "      <td>NaN</td>\n",
       "      <td>GOSAT</td>\n",
       "      <td>NaN</td>\n",
       "      <td>N2</td>\n",
       "      <td>...</td>\n",
       "      <td>NaN</td>\n",
       "      <td>XCO2 partial column difference between lower t...</td>\n",
       "      <td>Normal</td>\n",
       "      <td>POLYGON((116 40.5, 117 40.5, 117 39.5, 116 39....</td>\n",
       "      <td>ppmv</td>\n",
       "      <td>Partial Column (GOSAT FTS L1B V220.220)</td>\n",
       "      <td>BLUE</td>\n",
       "      <td>JAXA</td>\n",
       "      <td>CN01</td>\n",
       "      <td>Monthly</td>\n",
       "    </tr>\n",
       "    <tr>\n",
       "      <th>1</th>\n",
       "      <td>39.9,116.38</td>\n",
       "      <td>CN</td>\n",
       "      <td>NaN</td>\n",
       "      <td>Beijing</td>\n",
       "      <td>Beijing</td>\n",
       "      <td>Greenhouse Gases</td>\n",
       "      <td>NaN</td>\n",
       "      <td>GOSAT</td>\n",
       "      <td>NaN</td>\n",
       "      <td>N2</td>\n",
       "      <td>...</td>\n",
       "      <td>NaN</td>\n",
       "      <td>XCO2 partial column difference between lower t...</td>\n",
       "      <td>Normal</td>\n",
       "      <td>POLYGON((116 40.5, 117 40.5, 117 39.5, 116 39....</td>\n",
       "      <td>ppmv</td>\n",
       "      <td>Partial Column (GOSAT FTS L1B V220.220)</td>\n",
       "      <td>BLUE</td>\n",
       "      <td>JAXA</td>\n",
       "      <td>CN01</td>\n",
       "      <td>Monthly</td>\n",
       "    </tr>\n",
       "    <tr>\n",
       "      <th>2</th>\n",
       "      <td>39.9,116.38</td>\n",
       "      <td>CN</td>\n",
       "      <td>NaN</td>\n",
       "      <td>Beijing</td>\n",
       "      <td>Beijing</td>\n",
       "      <td>Greenhouse Gases</td>\n",
       "      <td>NaN</td>\n",
       "      <td>GOSAT</td>\n",
       "      <td>NaN</td>\n",
       "      <td>N2</td>\n",
       "      <td>...</td>\n",
       "      <td>NaN</td>\n",
       "      <td>XCO2 partial column difference between lower t...</td>\n",
       "      <td>Normal</td>\n",
       "      <td>POLYGON((116 40.5, 117 40.5, 117 39.5, 116 39....</td>\n",
       "      <td>ppmv</td>\n",
       "      <td>Partial Column (GOSAT FTS L1B V220.220)</td>\n",
       "      <td>BLUE</td>\n",
       "      <td>JAXA</td>\n",
       "      <td>CN01</td>\n",
       "      <td>Monthly</td>\n",
       "    </tr>\n",
       "    <tr>\n",
       "      <th>3</th>\n",
       "      <td>39.9,116.38</td>\n",
       "      <td>CN</td>\n",
       "      <td>NaN</td>\n",
       "      <td>Beijing</td>\n",
       "      <td>Beijing</td>\n",
       "      <td>Greenhouse Gases</td>\n",
       "      <td>NaN</td>\n",
       "      <td>GOSAT</td>\n",
       "      <td>NaN</td>\n",
       "      <td>N2</td>\n",
       "      <td>...</td>\n",
       "      <td>NaN</td>\n",
       "      <td>XCO2 partial column difference between lower t...</td>\n",
       "      <td>Normal</td>\n",
       "      <td>POLYGON((116 40.5, 117 40.5, 117 39.5, 116 39....</td>\n",
       "      <td>ppmv</td>\n",
       "      <td>Partial Column (GOSAT FTS L1B V220.220)</td>\n",
       "      <td>BLUE</td>\n",
       "      <td>JAXA</td>\n",
       "      <td>CN01</td>\n",
       "      <td>Monthly</td>\n",
       "    </tr>\n",
       "    <tr>\n",
       "      <th>4</th>\n",
       "      <td>39.9,116.38</td>\n",
       "      <td>CN</td>\n",
       "      <td>NaN</td>\n",
       "      <td>Beijing</td>\n",
       "      <td>Beijing</td>\n",
       "      <td>Greenhouse Gases</td>\n",
       "      <td>NaN</td>\n",
       "      <td>GOSAT</td>\n",
       "      <td>NaN</td>\n",
       "      <td>N2</td>\n",
       "      <td>...</td>\n",
       "      <td>NaN</td>\n",
       "      <td>XCO2 partial column difference between lower t...</td>\n",
       "      <td>Normal</td>\n",
       "      <td>POLYGON((116 40.5, 117 40.5, 117 39.5, 116 39....</td>\n",
       "      <td>ppmv</td>\n",
       "      <td>Partial Column (GOSAT FTS L1B V220.220)</td>\n",
       "      <td>BLUE</td>\n",
       "      <td>JAXA</td>\n",
       "      <td>CN01</td>\n",
       "      <td>Monthly</td>\n",
       "    </tr>\n",
       "    <tr>\n",
       "      <th>...</th>\n",
       "      <td>...</td>\n",
       "      <td>...</td>\n",
       "      <td>...</td>\n",
       "      <td>...</td>\n",
       "      <td>...</td>\n",
       "      <td>...</td>\n",
       "      <td>...</td>\n",
       "      <td>...</td>\n",
       "      <td>...</td>\n",
       "      <td>...</td>\n",
       "      <td>...</td>\n",
       "      <td>...</td>\n",
       "      <td>...</td>\n",
       "      <td>...</td>\n",
       "      <td>...</td>\n",
       "      <td>...</td>\n",
       "      <td>...</td>\n",
       "      <td>...</td>\n",
       "      <td>...</td>\n",
       "      <td>...</td>\n",
       "      <td>...</td>\n",
       "    </tr>\n",
       "    <tr>\n",
       "      <th>116</th>\n",
       "      <td>35.61,139.78</td>\n",
       "      <td>JP</td>\n",
       "      <td>NaN</td>\n",
       "      <td>Tokyo</td>\n",
       "      <td>Tokyo</td>\n",
       "      <td>Greenhouse Gases</td>\n",
       "      <td>NaN</td>\n",
       "      <td>Apr 2016-2019 average value GOSAT</td>\n",
       "      <td>GOSAT_XCO2</td>\n",
       "      <td>N2</td>\n",
       "      <td>...</td>\n",
       "      <td>NaN</td>\n",
       "      <td>XCO2 partial column difference between lower t...</td>\n",
       "      <td>Normal</td>\n",
       "      <td>POLYGON((139.4 36.2, 140.4 36.2, 140.4 35.2, 1...</td>\n",
       "      <td>ppmv</td>\n",
       "      <td>Partial Column (GOSAT FTS L1B V220.220)</td>\n",
       "      <td>BLUE</td>\n",
       "      <td>JAXA</td>\n",
       "      <td>JP01</td>\n",
       "      <td>Monthly</td>\n",
       "    </tr>\n",
       "    <tr>\n",
       "      <th>117</th>\n",
       "      <td>35.61,139.78</td>\n",
       "      <td>JP</td>\n",
       "      <td>NaN</td>\n",
       "      <td>Tokyo</td>\n",
       "      <td>Tokyo</td>\n",
       "      <td>Greenhouse Gases</td>\n",
       "      <td>NaN</td>\n",
       "      <td>January value GOSAT</td>\n",
       "      <td>GOSAT_XCO2</td>\n",
       "      <td>N2</td>\n",
       "      <td>...</td>\n",
       "      <td>NaN</td>\n",
       "      <td>XCO2 partial column difference between lower t...</td>\n",
       "      <td>Low</td>\n",
       "      <td>POLYGON((139.4 36.2, 140.4 36.2, 140.4 35.2, 1...</td>\n",
       "      <td>ppmv</td>\n",
       "      <td>Partial Column (GOSAT FTS L1B V220.220)</td>\n",
       "      <td>GREEN</td>\n",
       "      <td>JAXA</td>\n",
       "      <td>JP01</td>\n",
       "      <td>Monthly</td>\n",
       "    </tr>\n",
       "    <tr>\n",
       "      <th>118</th>\n",
       "      <td>35.61,139.78</td>\n",
       "      <td>JP</td>\n",
       "      <td>NaN</td>\n",
       "      <td>Tokyo</td>\n",
       "      <td>Tokyo</td>\n",
       "      <td>Greenhouse Gases</td>\n",
       "      <td>NaN</td>\n",
       "      <td>February value GOSAT</td>\n",
       "      <td>GOSAT_XCO2</td>\n",
       "      <td>N2</td>\n",
       "      <td>...</td>\n",
       "      <td>NaN</td>\n",
       "      <td>XCO2 partial column difference between lower t...</td>\n",
       "      <td>Low</td>\n",
       "      <td>POLYGON((139.4 36.2, 140.4 36.2, 140.4 35.2, 1...</td>\n",
       "      <td>ppmv</td>\n",
       "      <td>Partial Column (GOSAT FTS L1B V220.220)</td>\n",
       "      <td>GREEN</td>\n",
       "      <td>JAXA</td>\n",
       "      <td>JP01</td>\n",
       "      <td>Monthly</td>\n",
       "    </tr>\n",
       "    <tr>\n",
       "      <th>119</th>\n",
       "      <td>35.61,139.78</td>\n",
       "      <td>JP</td>\n",
       "      <td>NaN</td>\n",
       "      <td>Tokyo</td>\n",
       "      <td>Tokyo</td>\n",
       "      <td>Greenhouse Gases</td>\n",
       "      <td>NaN</td>\n",
       "      <td>March value GOSAT</td>\n",
       "      <td>GOSAT_XCO2</td>\n",
       "      <td>N2</td>\n",
       "      <td>...</td>\n",
       "      <td>NaN</td>\n",
       "      <td>XCO2 partial column difference between lower t...</td>\n",
       "      <td>Low</td>\n",
       "      <td>POLYGON((139.4 36.2, 140.4 36.2, 140.4 35.2, 1...</td>\n",
       "      <td>ppmv</td>\n",
       "      <td>Partial Column (GOSAT FTS L1B V220.220)</td>\n",
       "      <td>GREEN</td>\n",
       "      <td>JAXA</td>\n",
       "      <td>JP01</td>\n",
       "      <td>Monthly</td>\n",
       "    </tr>\n",
       "    <tr>\n",
       "      <th>120</th>\n",
       "      <td>35.61,139.78</td>\n",
       "      <td>JP</td>\n",
       "      <td>NaN</td>\n",
       "      <td>Tokyo</td>\n",
       "      <td>Tokyo</td>\n",
       "      <td>Greenhouse Gases</td>\n",
       "      <td>NaN</td>\n",
       "      <td>April value GOSAT</td>\n",
       "      <td>GOSAT_XCO2</td>\n",
       "      <td>N2</td>\n",
       "      <td>...</td>\n",
       "      <td>NaN</td>\n",
       "      <td>XCO2 partial column difference between lower t...</td>\n",
       "      <td>Low</td>\n",
       "      <td>POLYGON((139.4 36.2, 140.4 36.2, 140.4 35.2, 1...</td>\n",
       "      <td>ppmv</td>\n",
       "      <td>Partial Column (GOSAT FTS L1B V220.220)</td>\n",
       "      <td>GREEN</td>\n",
       "      <td>JAXA</td>\n",
       "      <td>JP01</td>\n",
       "      <td>Monthly</td>\n",
       "    </tr>\n",
       "  </tbody>\n",
       "</table>\n",
       "<p>121 rows × 24 columns</p>\n",
       "</div>"
      ],
      "text/plain": [
       "              AOI Country  Region     City Site Name       Description  \\\n",
       "0     39.9,116.38      CN     NaN  Beijing   Beijing  Greenhouse Gases   \n",
       "1     39.9,116.38      CN     NaN  Beijing   Beijing  Greenhouse Gases   \n",
       "2     39.9,116.38      CN     NaN  Beijing   Beijing  Greenhouse Gases   \n",
       "3     39.9,116.38      CN     NaN  Beijing   Beijing  Greenhouse Gases   \n",
       "4     39.9,116.38      CN     NaN  Beijing   Beijing  Greenhouse Gases   \n",
       "..            ...     ...     ...      ...       ...               ...   \n",
       "116  35.61,139.78      JP     NaN    Tokyo     Tokyo  Greenhouse Gases   \n",
       "117  35.61,139.78      JP     NaN    Tokyo     Tokyo  Greenhouse Gases   \n",
       "118  35.61,139.78      JP     NaN    Tokyo     Tokyo  Greenhouse Gases   \n",
       "119  35.61,139.78      JP     NaN    Tokyo     Tokyo  Greenhouse Gases   \n",
       "120  35.61,139.78      JP     NaN    Tokyo     Tokyo  Greenhouse Gases   \n",
       "\n",
       "     Method                          EO Sensor  Input Data Indicator code  \\\n",
       "0       NaN                              GOSAT         NaN             N2   \n",
       "1       NaN                              GOSAT         NaN             N2   \n",
       "2       NaN                              GOSAT         NaN             N2   \n",
       "3       NaN                              GOSAT         NaN             N2   \n",
       "4       NaN                              GOSAT         NaN             N2   \n",
       "..      ...                                ...         ...            ...   \n",
       "116     NaN  Apr 2016-2019 average value GOSAT  GOSAT_XCO2             N2   \n",
       "117     NaN                January value GOSAT  GOSAT_XCO2             N2   \n",
       "118     NaN               February value GOSAT  GOSAT_XCO2             N2   \n",
       "119     NaN                  March value GOSAT  GOSAT_XCO2             N2   \n",
       "120     NaN                  April value GOSAT  GOSAT_XCO2             N2   \n",
       "\n",
       "     ... Reference value                                               Rule  \\\n",
       "0    ...             NaN  XCO2 partial column difference between lower t...   \n",
       "1    ...             NaN  XCO2 partial column difference between lower t...   \n",
       "2    ...             NaN  XCO2 partial column difference between lower t...   \n",
       "3    ...             NaN  XCO2 partial column difference between lower t...   \n",
       "4    ...             NaN  XCO2 partial column difference between lower t...   \n",
       "..   ...             ...                                                ...   \n",
       "116  ...             NaN  XCO2 partial column difference between lower t...   \n",
       "117  ...             NaN  XCO2 partial column difference between lower t...   \n",
       "118  ...             NaN  XCO2 partial column difference between lower t...   \n",
       "119  ...             NaN  XCO2 partial column difference between lower t...   \n",
       "120  ...             NaN  XCO2 partial column difference between lower t...   \n",
       "\n",
       "     Indicator Value                                            Sub-AOI  \\\n",
       "0             Normal  POLYGON((116 40.5, 117 40.5, 117 39.5, 116 39....   \n",
       "1             Normal  POLYGON((116 40.5, 117 40.5, 117 39.5, 116 39....   \n",
       "2             Normal  POLYGON((116 40.5, 117 40.5, 117 39.5, 116 39....   \n",
       "3             Normal  POLYGON((116 40.5, 117 40.5, 117 39.5, 116 39....   \n",
       "4             Normal  POLYGON((116 40.5, 117 40.5, 117 39.5, 116 39....   \n",
       "..               ...                                                ...   \n",
       "116           Normal  POLYGON((139.4 36.2, 140.4 36.2, 140.4 35.2, 1...   \n",
       "117              Low  POLYGON((139.4 36.2, 140.4 36.2, 140.4 35.2, 1...   \n",
       "118              Low  POLYGON((139.4 36.2, 140.4 36.2, 140.4 35.2, 1...   \n",
       "119              Low  POLYGON((139.4 36.2, 140.4 36.2, 140.4 35.2, 1...   \n",
       "120              Low  POLYGON((139.4 36.2, 140.4 36.2, 140.4 35.2, 1...   \n",
       "\n",
       "     Y axis                           Indicator Name Color code Data Provider  \\\n",
       "0      ppmv  Partial Column (GOSAT FTS L1B V220.220)       BLUE          JAXA   \n",
       "1      ppmv  Partial Column (GOSAT FTS L1B V220.220)       BLUE          JAXA   \n",
       "2      ppmv  Partial Column (GOSAT FTS L1B V220.220)       BLUE          JAXA   \n",
       "3      ppmv  Partial Column (GOSAT FTS L1B V220.220)       BLUE          JAXA   \n",
       "4      ppmv  Partial Column (GOSAT FTS L1B V220.220)       BLUE          JAXA   \n",
       "..      ...                                      ...        ...           ...   \n",
       "116    ppmv  Partial Column (GOSAT FTS L1B V220.220)       BLUE          JAXA   \n",
       "117    ppmv  Partial Column (GOSAT FTS L1B V220.220)      GREEN          JAXA   \n",
       "118    ppmv  Partial Column (GOSAT FTS L1B V220.220)      GREEN          JAXA   \n",
       "119    ppmv  Partial Column (GOSAT FTS L1B V220.220)      GREEN          JAXA   \n",
       "120    ppmv  Partial Column (GOSAT FTS L1B V220.220)      GREEN          JAXA   \n",
       "\n",
       "    AOI_ID Update Frequency  \n",
       "0     CN01          Monthly  \n",
       "1     CN01          Monthly  \n",
       "2     CN01          Monthly  \n",
       "3     CN01          Monthly  \n",
       "4     CN01          Monthly  \n",
       "..     ...              ...  \n",
       "116   JP01          Monthly  \n",
       "117   JP01          Monthly  \n",
       "118   JP01          Monthly  \n",
       "119   JP01          Monthly  \n",
       "120   JP01          Monthly  \n",
       "\n",
       "[121 rows x 24 columns]"
      ]
     },
     "execution_count": 19,
     "metadata": {},
     "output_type": "execute_result"
    }
   ],
   "source": [
    "df = pd.read_csv(\"N2.csv\")\n",
    "df"
   ]
  },
  {
   "cell_type": "code",
   "execution_count": 24,
   "metadata": {},
   "outputs": [],
   "source": [
    "df[\"Time\"] = pd.to_datetime(df[\"Time\"])\n",
    "df = df.sort_values(by = \"Time\")"
   ]
  },
  {
   "cell_type": "code",
   "execution_count": 26,
   "metadata": {},
   "outputs": [],
   "source": [
    "df[\"Time\"] =df[\"Time\"].astype(str)"
   ]
  },
  {
   "cell_type": "code",
   "execution_count": 29,
   "metadata": {},
   "outputs": [
    {
     "data": {
      "text/plain": [
       "AOI                       object\n",
       "Country                   object\n",
       "Region                   float64\n",
       "City                      object\n",
       "Site Name                 object\n",
       "Description               object\n",
       "Method                   float64\n",
       "EO Sensor                 object\n",
       "Input Data                object\n",
       "Indicator code            object\n",
       "Time                      object\n",
       "Measurement Value        float64\n",
       "Reference Description    float64\n",
       "Reference time           float64\n",
       "Reference value          float64\n",
       "Rule                      object\n",
       "Indicator Value           object\n",
       "Sub-AOI                   object\n",
       "Y axis                    object\n",
       "Indicator Name            object\n",
       "Color code                object\n",
       "Data Provider             object\n",
       "AOI_ID                    object\n",
       "Update Frequency          object\n",
       "latitude                 float64\n",
       "longitude                float64\n",
       "dtype: object"
      ]
     },
     "execution_count": 29,
     "metadata": {},
     "output_type": "execute_result"
    }
   ],
   "source": [
    "df[[\"latitude\",\"longitude\"]] = df[\"AOI\"].str.split(\",\" , expand = True)\n",
    "df[\"latitude\"] = df[\"latitude\"].astype(float)\n",
    "df[\"longitude\"] = df[\"longitude\"].astype(float)\n",
    "df.dtypes"
   ]
  },
  {
   "cell_type": "code",
   "execution_count": 31,
   "metadata": {},
   "outputs": [
    {
     "data": {
      "text/html": [
       "<div>\n",
       "<style scoped>\n",
       "    .dataframe tbody tr th:only-of-type {\n",
       "        vertical-align: middle;\n",
       "    }\n",
       "\n",
       "    .dataframe tbody tr th {\n",
       "        vertical-align: top;\n",
       "    }\n",
       "\n",
       "    .dataframe thead th {\n",
       "        text-align: right;\n",
       "    }\n",
       "</style>\n",
       "<table border=\"1\" class=\"dataframe\">\n",
       "  <thead>\n",
       "    <tr style=\"text-align: right;\">\n",
       "      <th></th>\n",
       "      <th>AOI</th>\n",
       "      <th>Country</th>\n",
       "      <th>City</th>\n",
       "      <th>Site Name</th>\n",
       "      <th>Description</th>\n",
       "      <th>EO Sensor</th>\n",
       "      <th>Input Data</th>\n",
       "      <th>Indicator code</th>\n",
       "      <th>Time</th>\n",
       "      <th>Measurement Value</th>\n",
       "      <th>...</th>\n",
       "      <th>Indicator Value</th>\n",
       "      <th>Sub-AOI</th>\n",
       "      <th>Y axis</th>\n",
       "      <th>Indicator Name</th>\n",
       "      <th>Color code</th>\n",
       "      <th>Data Provider</th>\n",
       "      <th>AOI_ID</th>\n",
       "      <th>Update Frequency</th>\n",
       "      <th>latitude</th>\n",
       "      <th>longitude</th>\n",
       "    </tr>\n",
       "  </thead>\n",
       "  <tbody>\n",
       "    <tr>\n",
       "      <th>51</th>\n",
       "      <td>19.076,72.8777</td>\n",
       "      <td>IN</td>\n",
       "      <td>Mumbai</td>\n",
       "      <td>Mumbai</td>\n",
       "      <td>Greenhouse Gases</td>\n",
       "      <td>GOSAT</td>\n",
       "      <td>NaN</td>\n",
       "      <td>N2</td>\n",
       "      <td>2016-01-01</td>\n",
       "      <td>3.91</td>\n",
       "      <td>...</td>\n",
       "      <td>Normal</td>\n",
       "      <td>POLYGON((72.6 19.5, 73.6 19.5, 73.6 18.5, 72.6...</td>\n",
       "      <td>ppmv</td>\n",
       "      <td>Partial Column (GOSAT FTS L1B V220.220)</td>\n",
       "      <td>BLUE</td>\n",
       "      <td>JAXA</td>\n",
       "      <td>IN02</td>\n",
       "      <td>Monthly</td>\n",
       "      <td>19.0760</td>\n",
       "      <td>72.877700</td>\n",
       "    </tr>\n",
       "    <tr>\n",
       "      <th>101</th>\n",
       "      <td>35.61,139.78</td>\n",
       "      <td>JP</td>\n",
       "      <td>Tokyo</td>\n",
       "      <td>Tokyo</td>\n",
       "      <td>Greenhouse Gases</td>\n",
       "      <td>GOSAT</td>\n",
       "      <td>NaN</td>\n",
       "      <td>N2</td>\n",
       "      <td>2016-01-01</td>\n",
       "      <td>4.13</td>\n",
       "      <td>...</td>\n",
       "      <td>Normal</td>\n",
       "      <td>POLYGON((139.4 36.2, 140.4 36.2, 140.4 35.2, 1...</td>\n",
       "      <td>ppmv</td>\n",
       "      <td>Partial Column (GOSAT FTS L1B V220.220)</td>\n",
       "      <td>BLUE</td>\n",
       "      <td>JAXA</td>\n",
       "      <td>JP01</td>\n",
       "      <td>Monthly</td>\n",
       "      <td>35.6100</td>\n",
       "      <td>139.780000</td>\n",
       "    </tr>\n",
       "    <tr>\n",
       "      <th>52</th>\n",
       "      <td>19.076,72.8777</td>\n",
       "      <td>IN</td>\n",
       "      <td>Mumbai</td>\n",
       "      <td>Mumbai</td>\n",
       "      <td>Greenhouse Gases</td>\n",
       "      <td>GOSAT</td>\n",
       "      <td>NaN</td>\n",
       "      <td>N2</td>\n",
       "      <td>2016-02-01</td>\n",
       "      <td>6.47</td>\n",
       "      <td>...</td>\n",
       "      <td>Normal</td>\n",
       "      <td>POLYGON((72.6 19.5, 73.6 19.5, 73.6 18.5, 72.6...</td>\n",
       "      <td>ppmv</td>\n",
       "      <td>Partial Column (GOSAT FTS L1B V220.220)</td>\n",
       "      <td>BLUE</td>\n",
       "      <td>JAXA</td>\n",
       "      <td>IN02</td>\n",
       "      <td>Monthly</td>\n",
       "      <td>19.0760</td>\n",
       "      <td>72.877700</td>\n",
       "    </tr>\n",
       "    <tr>\n",
       "      <th>102</th>\n",
       "      <td>35.61,139.78</td>\n",
       "      <td>JP</td>\n",
       "      <td>Tokyo</td>\n",
       "      <td>Tokyo</td>\n",
       "      <td>Greenhouse Gases</td>\n",
       "      <td>GOSAT</td>\n",
       "      <td>NaN</td>\n",
       "      <td>N2</td>\n",
       "      <td>2016-02-01</td>\n",
       "      <td>5.11</td>\n",
       "      <td>...</td>\n",
       "      <td>Normal</td>\n",
       "      <td>POLYGON((139.4 36.2, 140.4 36.2, 140.4 35.2, 1...</td>\n",
       "      <td>ppmv</td>\n",
       "      <td>Partial Column (GOSAT FTS L1B V220.220)</td>\n",
       "      <td>BLUE</td>\n",
       "      <td>JAXA</td>\n",
       "      <td>JP01</td>\n",
       "      <td>Monthly</td>\n",
       "      <td>35.6100</td>\n",
       "      <td>139.780000</td>\n",
       "    </tr>\n",
       "    <tr>\n",
       "      <th>53</th>\n",
       "      <td>19.076,72.8777</td>\n",
       "      <td>IN</td>\n",
       "      <td>Mumbai</td>\n",
       "      <td>Mumbai</td>\n",
       "      <td>Greenhouse Gases</td>\n",
       "      <td>GOSAT</td>\n",
       "      <td>NaN</td>\n",
       "      <td>N2</td>\n",
       "      <td>2016-03-01</td>\n",
       "      <td>2.32</td>\n",
       "      <td>...</td>\n",
       "      <td>Normal</td>\n",
       "      <td>POLYGON((72.6 19.5, 73.6 19.5, 73.6 18.5, 72.6...</td>\n",
       "      <td>ppmv</td>\n",
       "      <td>Partial Column (GOSAT FTS L1B V220.220)</td>\n",
       "      <td>BLUE</td>\n",
       "      <td>JAXA</td>\n",
       "      <td>IN02</td>\n",
       "      <td>Monthly</td>\n",
       "      <td>19.0760</td>\n",
       "      <td>72.877700</td>\n",
       "    </tr>\n",
       "    <tr>\n",
       "      <th>...</th>\n",
       "      <td>...</td>\n",
       "      <td>...</td>\n",
       "      <td>...</td>\n",
       "      <td>...</td>\n",
       "      <td>...</td>\n",
       "      <td>...</td>\n",
       "      <td>...</td>\n",
       "      <td>...</td>\n",
       "      <td>...</td>\n",
       "      <td>...</td>\n",
       "      <td>...</td>\n",
       "      <td>...</td>\n",
       "      <td>...</td>\n",
       "      <td>...</td>\n",
       "      <td>...</td>\n",
       "      <td>...</td>\n",
       "      <td>...</td>\n",
       "      <td>...</td>\n",
       "      <td>...</td>\n",
       "      <td>...</td>\n",
       "      <td>...</td>\n",
       "    </tr>\n",
       "    <tr>\n",
       "      <th>70</th>\n",
       "      <td>19.076,72.8777</td>\n",
       "      <td>IN</td>\n",
       "      <td>Mumbai</td>\n",
       "      <td>Mumbai</td>\n",
       "      <td>Greenhouse Gases</td>\n",
       "      <td>April value GOSAT</td>\n",
       "      <td>GOSAT_XCO2</td>\n",
       "      <td>N2</td>\n",
       "      <td>2020-04-01</td>\n",
       "      <td>1.54</td>\n",
       "      <td>...</td>\n",
       "      <td>Low</td>\n",
       "      <td>POLYGON((72.6 19.5, 73.6 19.5, 73.6 18.5, 72.6...</td>\n",
       "      <td>ppmv</td>\n",
       "      <td>Partial Column (GOSAT FTS L1B V220.220)</td>\n",
       "      <td>GREEN</td>\n",
       "      <td>JAXA</td>\n",
       "      <td>IN02</td>\n",
       "      <td>Monthly</td>\n",
       "      <td>19.0760</td>\n",
       "      <td>72.877700</td>\n",
       "    </tr>\n",
       "    <tr>\n",
       "      <th>100</th>\n",
       "      <td>31.3,121.4</td>\n",
       "      <td>CN</td>\n",
       "      <td>Shanghai</td>\n",
       "      <td>Shanghai</td>\n",
       "      <td>Greenhouse Gases</td>\n",
       "      <td>April value GOSAT</td>\n",
       "      <td>GOSAT_XCO2</td>\n",
       "      <td>N2</td>\n",
       "      <td>2020-04-01</td>\n",
       "      <td>4.54</td>\n",
       "      <td>...</td>\n",
       "      <td>Low</td>\n",
       "      <td>POLYGON((120.9 31.8, 121.9 31.8, 121.9 30.8, 1...</td>\n",
       "      <td>ppmv</td>\n",
       "      <td>Partial Column (GOSAT FTS L1B V220.220)</td>\n",
       "      <td>GREEN</td>\n",
       "      <td>JAXA</td>\n",
       "      <td>CN02</td>\n",
       "      <td>Monthly</td>\n",
       "      <td>31.3000</td>\n",
       "      <td>121.400000</td>\n",
       "    </tr>\n",
       "    <tr>\n",
       "      <th>16</th>\n",
       "      <td>39.9,116.38</td>\n",
       "      <td>CN</td>\n",
       "      <td>Beijing</td>\n",
       "      <td>Beijing</td>\n",
       "      <td>Greenhouse Gases</td>\n",
       "      <td>April value GOSAT</td>\n",
       "      <td>GOSAT_XCO2</td>\n",
       "      <td>N2</td>\n",
       "      <td>2020-04-01</td>\n",
       "      <td>5.82</td>\n",
       "      <td>...</td>\n",
       "      <td>Low</td>\n",
       "      <td>POLYGON((116 40.5, 117 40.5, 117 39.5, 116 39....</td>\n",
       "      <td>ppmv</td>\n",
       "      <td>Partial Column (GOSAT FTS L1B V220.220)</td>\n",
       "      <td>GREEN</td>\n",
       "      <td>JAXA</td>\n",
       "      <td>CN01</td>\n",
       "      <td>Monthly</td>\n",
       "      <td>39.9000</td>\n",
       "      <td>116.380000</td>\n",
       "    </tr>\n",
       "    <tr>\n",
       "      <th>50</th>\n",
       "      <td>28.6448,77.216721</td>\n",
       "      <td>IN</td>\n",
       "      <td>New Delhi</td>\n",
       "      <td>New Delhi</td>\n",
       "      <td>Greenhouse Gases</td>\n",
       "      <td>April value GOSAT</td>\n",
       "      <td>GOSAT_XCO2</td>\n",
       "      <td>N2</td>\n",
       "      <td>2020-04-01</td>\n",
       "      <td>3.46</td>\n",
       "      <td>...</td>\n",
       "      <td>Low</td>\n",
       "      <td>POLYGON((76.8 29.2, 77.8 29.2, 77.8 28.2, 76.8...</td>\n",
       "      <td>ppmv</td>\n",
       "      <td>Partial Column (GOSAT FTS L1B V220.220)</td>\n",
       "      <td>GREEN</td>\n",
       "      <td>JAXA</td>\n",
       "      <td>IN01</td>\n",
       "      <td>Monthly</td>\n",
       "      <td>28.6448</td>\n",
       "      <td>77.216721</td>\n",
       "    </tr>\n",
       "    <tr>\n",
       "      <th>120</th>\n",
       "      <td>35.61,139.78</td>\n",
       "      <td>JP</td>\n",
       "      <td>Tokyo</td>\n",
       "      <td>Tokyo</td>\n",
       "      <td>Greenhouse Gases</td>\n",
       "      <td>April value GOSAT</td>\n",
       "      <td>GOSAT_XCO2</td>\n",
       "      <td>N2</td>\n",
       "      <td>2020-04-01</td>\n",
       "      <td>2.96</td>\n",
       "      <td>...</td>\n",
       "      <td>Low</td>\n",
       "      <td>POLYGON((139.4 36.2, 140.4 36.2, 140.4 35.2, 1...</td>\n",
       "      <td>ppmv</td>\n",
       "      <td>Partial Column (GOSAT FTS L1B V220.220)</td>\n",
       "      <td>GREEN</td>\n",
       "      <td>JAXA</td>\n",
       "      <td>JP01</td>\n",
       "      <td>Monthly</td>\n",
       "      <td>35.6100</td>\n",
       "      <td>139.780000</td>\n",
       "    </tr>\n",
       "  </tbody>\n",
       "</table>\n",
       "<p>121 rows × 21 columns</p>\n",
       "</div>"
      ],
      "text/plain": [
       "                   AOI Country       City  Site Name       Description  \\\n",
       "51      19.076,72.8777      IN     Mumbai     Mumbai  Greenhouse Gases   \n",
       "101       35.61,139.78      JP      Tokyo      Tokyo  Greenhouse Gases   \n",
       "52      19.076,72.8777      IN     Mumbai     Mumbai  Greenhouse Gases   \n",
       "102       35.61,139.78      JP      Tokyo      Tokyo  Greenhouse Gases   \n",
       "53      19.076,72.8777      IN     Mumbai     Mumbai  Greenhouse Gases   \n",
       "..                 ...     ...        ...        ...               ...   \n",
       "70      19.076,72.8777      IN     Mumbai     Mumbai  Greenhouse Gases   \n",
       "100         31.3,121.4      CN   Shanghai   Shanghai  Greenhouse Gases   \n",
       "16         39.9,116.38      CN    Beijing    Beijing  Greenhouse Gases   \n",
       "50   28.6448,77.216721      IN  New Delhi  New Delhi  Greenhouse Gases   \n",
       "120       35.61,139.78      JP      Tokyo      Tokyo  Greenhouse Gases   \n",
       "\n",
       "             EO Sensor  Input Data Indicator code        Time  \\\n",
       "51               GOSAT         NaN             N2  2016-01-01   \n",
       "101              GOSAT         NaN             N2  2016-01-01   \n",
       "52               GOSAT         NaN             N2  2016-02-01   \n",
       "102              GOSAT         NaN             N2  2016-02-01   \n",
       "53               GOSAT         NaN             N2  2016-03-01   \n",
       "..                 ...         ...            ...         ...   \n",
       "70   April value GOSAT  GOSAT_XCO2             N2  2020-04-01   \n",
       "100  April value GOSAT  GOSAT_XCO2             N2  2020-04-01   \n",
       "16   April value GOSAT  GOSAT_XCO2             N2  2020-04-01   \n",
       "50   April value GOSAT  GOSAT_XCO2             N2  2020-04-01   \n",
       "120  April value GOSAT  GOSAT_XCO2             N2  2020-04-01   \n",
       "\n",
       "     Measurement Value  ... Indicator Value  \\\n",
       "51                3.91  ...          Normal   \n",
       "101               4.13  ...          Normal   \n",
       "52                6.47  ...          Normal   \n",
       "102               5.11  ...          Normal   \n",
       "53                2.32  ...          Normal   \n",
       "..                 ...  ...             ...   \n",
       "70                1.54  ...             Low   \n",
       "100               4.54  ...             Low   \n",
       "16                5.82  ...             Low   \n",
       "50                3.46  ...             Low   \n",
       "120               2.96  ...             Low   \n",
       "\n",
       "                                               Sub-AOI Y axis  \\\n",
       "51   POLYGON((72.6 19.5, 73.6 19.5, 73.6 18.5, 72.6...   ppmv   \n",
       "101  POLYGON((139.4 36.2, 140.4 36.2, 140.4 35.2, 1...   ppmv   \n",
       "52   POLYGON((72.6 19.5, 73.6 19.5, 73.6 18.5, 72.6...   ppmv   \n",
       "102  POLYGON((139.4 36.2, 140.4 36.2, 140.4 35.2, 1...   ppmv   \n",
       "53   POLYGON((72.6 19.5, 73.6 19.5, 73.6 18.5, 72.6...   ppmv   \n",
       "..                                                 ...    ...   \n",
       "70   POLYGON((72.6 19.5, 73.6 19.5, 73.6 18.5, 72.6...   ppmv   \n",
       "100  POLYGON((120.9 31.8, 121.9 31.8, 121.9 30.8, 1...   ppmv   \n",
       "16   POLYGON((116 40.5, 117 40.5, 117 39.5, 116 39....   ppmv   \n",
       "50   POLYGON((76.8 29.2, 77.8 29.2, 77.8 28.2, 76.8...   ppmv   \n",
       "120  POLYGON((139.4 36.2, 140.4 36.2, 140.4 35.2, 1...   ppmv   \n",
       "\n",
       "                              Indicator Name Color code Data Provider AOI_ID  \\\n",
       "51   Partial Column (GOSAT FTS L1B V220.220)       BLUE          JAXA   IN02   \n",
       "101  Partial Column (GOSAT FTS L1B V220.220)       BLUE          JAXA   JP01   \n",
       "52   Partial Column (GOSAT FTS L1B V220.220)       BLUE          JAXA   IN02   \n",
       "102  Partial Column (GOSAT FTS L1B V220.220)       BLUE          JAXA   JP01   \n",
       "53   Partial Column (GOSAT FTS L1B V220.220)       BLUE          JAXA   IN02   \n",
       "..                                       ...        ...           ...    ...   \n",
       "70   Partial Column (GOSAT FTS L1B V220.220)      GREEN          JAXA   IN02   \n",
       "100  Partial Column (GOSAT FTS L1B V220.220)      GREEN          JAXA   CN02   \n",
       "16   Partial Column (GOSAT FTS L1B V220.220)      GREEN          JAXA   CN01   \n",
       "50   Partial Column (GOSAT FTS L1B V220.220)      GREEN          JAXA   IN01   \n",
       "120  Partial Column (GOSAT FTS L1B V220.220)      GREEN          JAXA   JP01   \n",
       "\n",
       "    Update Frequency latitude   longitude  \n",
       "51           Monthly  19.0760   72.877700  \n",
       "101          Monthly  35.6100  139.780000  \n",
       "52           Monthly  19.0760   72.877700  \n",
       "102          Monthly  35.6100  139.780000  \n",
       "53           Monthly  19.0760   72.877700  \n",
       "..               ...      ...         ...  \n",
       "70           Monthly  19.0760   72.877700  \n",
       "100          Monthly  31.3000  121.400000  \n",
       "16           Monthly  39.9000  116.380000  \n",
       "50           Monthly  28.6448   77.216721  \n",
       "120          Monthly  35.6100  139.780000  \n",
       "\n",
       "[121 rows x 21 columns]"
      ]
     },
     "execution_count": 31,
     "metadata": {},
     "output_type": "execute_result"
    }
   ],
   "source": [
    "df_dropped = df.dropna(axis = \"columns\" , how = \"all\")\n",
    "df_dropped"
   ]
  },
  {
   "cell_type": "code",
   "execution_count": 40,
   "metadata": {},
   "outputs": [
    {
     "data": {
      "application/vnd.plotly.v1+json": {
       "config": {
        "plotlyServerURL": "https://plot.ly"
       },
       "data": [
        {
         "coloraxis": "coloraxis",
         "customdata": [
          [
           "Partial Column (GOSAT FTS L1B V220.220)",
           "Normal",
           "GOSAT",
           "JAXA"
          ],
          [
           "Partial Column (GOSAT FTS L1B V220.220)",
           "Normal",
           "GOSAT",
           "JAXA"
          ]
         ],
         "hovertemplate": "<b>%{hovertext}</b><br><br>Time=2016-01-01<br>Measurement Value=%{z}<br>latitude=%{lat}<br>longitude=%{lon}<br>Indicator Name=%{customdata[0]}<br>Indicator Value=%{customdata[1]}<br>EO Sensor=%{customdata[2]}<br>Data Provider=%{customdata[3]}<extra></extra>",
         "hovertext": [
          "Mumbai",
          "Tokyo"
         ],
         "lat": [
          19.076,
          35.61
         ],
         "lon": [
          72.8777,
          139.78
         ],
         "name": "",
         "opacity": 1,
         "radius": 10,
         "subplot": "mapbox",
         "type": "densitymapbox",
         "z": [
          3.91,
          4.13
         ]
        }
       ],
       "frames": [
        {
         "data": [
          {
           "coloraxis": "coloraxis",
           "customdata": [
            [
             "Partial Column (GOSAT FTS L1B V220.220)",
             "Normal",
             "GOSAT",
             "JAXA"
            ],
            [
             "Partial Column (GOSAT FTS L1B V220.220)",
             "Normal",
             "GOSAT",
             "JAXA"
            ]
           ],
           "hovertemplate": "<b>%{hovertext}</b><br><br>Time=2016-01-01<br>Measurement Value=%{z}<br>latitude=%{lat}<br>longitude=%{lon}<br>Indicator Name=%{customdata[0]}<br>Indicator Value=%{customdata[1]}<br>EO Sensor=%{customdata[2]}<br>Data Provider=%{customdata[3]}<extra></extra>",
           "hovertext": [
            "Mumbai",
            "Tokyo"
           ],
           "lat": [
            19.076,
            35.61
           ],
           "lon": [
            72.8777,
            139.78
           ],
           "name": "",
           "opacity": 1,
           "radius": 10,
           "subplot": "mapbox",
           "type": "densitymapbox",
           "z": [
            3.91,
            4.13
           ]
          }
         ],
         "name": "2016-01-01"
        },
        {
         "data": [
          {
           "coloraxis": "coloraxis",
           "customdata": [
            [
             "Partial Column (GOSAT FTS L1B V220.220)",
             "Normal",
             "GOSAT",
             "JAXA"
            ],
            [
             "Partial Column (GOSAT FTS L1B V220.220)",
             "Normal",
             "GOSAT",
             "JAXA"
            ]
           ],
           "hovertemplate": "<b>%{hovertext}</b><br><br>Time=2016-02-01<br>Measurement Value=%{z}<br>latitude=%{lat}<br>longitude=%{lon}<br>Indicator Name=%{customdata[0]}<br>Indicator Value=%{customdata[1]}<br>EO Sensor=%{customdata[2]}<br>Data Provider=%{customdata[3]}<extra></extra>",
           "hovertext": [
            "Mumbai",
            "Tokyo"
           ],
           "lat": [
            19.076,
            35.61
           ],
           "lon": [
            72.8777,
            139.78
           ],
           "name": "",
           "opacity": 1,
           "radius": 10,
           "subplot": "mapbox",
           "type": "densitymapbox",
           "z": [
            6.47,
            5.11
           ]
          }
         ],
         "name": "2016-02-01"
        },
        {
         "data": [
          {
           "coloraxis": "coloraxis",
           "customdata": [
            [
             "Partial Column (GOSAT FTS L1B V220.220)",
             "Normal",
             "GOSAT",
             "JAXA"
            ],
            [
             "Partial Column (GOSAT FTS L1B V220.220)",
             "Normal",
             "GOSAT",
             "JAXA"
            ],
            [
             "Partial Column (GOSAT FTS L1B V220.220)",
             "Normal",
             "GOSAT",
             "JAXA"
            ]
           ],
           "hovertemplate": "<b>%{hovertext}</b><br><br>Time=2016-03-01<br>Measurement Value=%{z}<br>latitude=%{lat}<br>longitude=%{lon}<br>Indicator Name=%{customdata[0]}<br>Indicator Value=%{customdata[1]}<br>EO Sensor=%{customdata[2]}<br>Data Provider=%{customdata[3]}<extra></extra>",
           "hovertext": [
            "Mumbai",
            "New Delhi",
            "Tokyo"
           ],
           "lat": [
            19.076,
            28.6448,
            35.61
           ],
           "lon": [
            72.8777,
            77.216721,
            139.78
           ],
           "name": "",
           "opacity": 1,
           "radius": 10,
           "subplot": "mapbox",
           "type": "densitymapbox",
           "z": [
            2.32,
            0.91,
            5.83
           ]
          }
         ],
         "name": "2016-03-01"
        },
        {
         "data": [
          {
           "coloraxis": "coloraxis",
           "customdata": [
            [
             "Partial Column (GOSAT FTS L1B V220.220)",
             "Normal",
             "GOSAT",
             "JAXA"
            ],
            [
             "Partial Column (GOSAT FTS L1B V220.220)",
             "Normal",
             "GOSAT",
             "JAXA"
            ],
            [
             "Partial Column (GOSAT FTS L1B V220.220)",
             "Normal",
             "GOSAT",
             "JAXA"
            ],
            [
             "Partial Column (GOSAT FTS L1B V220.220)",
             "Normal",
             "GOSAT",
             "JAXA"
            ],
            [
             "Partial Column (GOSAT FTS L1B V220.220)",
             "Normal",
             "GOSAT",
             "JAXA"
            ],
            [
             "Partial Column (GOSAT FTS L1B V220.220)",
             "Normal",
             "GOSAT",
             "JAXA"
            ],
            [
             "Partial Column (GOSAT FTS L1B V220.220)",
             "Normal",
             "GOSAT",
             "JAXA"
            ]
           ],
           "hovertemplate": "<b>%{hovertext}</b><br><br>Time=2016-04-01<br>Measurement Value=%{z}<br>latitude=%{lat}<br>longitude=%{lon}<br>Indicator Name=%{customdata[0]}<br>Indicator Value=%{customdata[1]}<br>EO Sensor=%{customdata[2]}<br>Data Provider=%{customdata[3]}<extra></extra>",
           "hovertext": [
            "Shanghai",
            "Mumbai",
            "New York",
            "Beijing",
            "Dhaka",
            "Tokyo",
            "New Delhi"
           ],
           "lat": [
            31.3,
            19.076,
            40.71268,
            39.9,
            23.8,
            35.61,
            28.6448
           ],
           "lon": [
            121.4,
            72.8777,
            -74.005812,
            116.38,
            90.3,
            139.78,
            77.216721
           ],
           "name": "",
           "opacity": 1,
           "radius": 10,
           "subplot": "mapbox",
           "type": "densitymapbox",
           "z": [
            4.15,
            3.03,
            5.05,
            6.62,
            -2.8,
            8.42,
            6.49
           ]
          }
         ],
         "name": "2016-04-01"
        },
        {
         "data": [
          {
           "coloraxis": "coloraxis",
           "customdata": [
            [
             "Partial Column (GOSAT FTS L1B V220.220)",
             "Normal",
             "GOSAT",
             "JAXA"
            ],
            [
             "Partial Column (GOSAT FTS L1B V220.220)",
             "Normal",
             "GOSAT",
             "JAXA"
            ],
            [
             "Partial Column (GOSAT FTS L1B V220.220)",
             "Normal",
             "GOSAT",
             "JAXA"
            ],
            [
             "Partial Column (GOSAT FTS L1B V220.220)",
             "Normal",
             "GOSAT",
             "JAXA"
            ],
            [
             "Partial Column (GOSAT FTS L1B V220.220)",
             "Normal",
             "GOSAT",
             "JAXA"
            ],
            [
             "Partial Column (GOSAT FTS L1B V220.220)",
             "Normal",
             "GOSAT",
             "JAXA"
            ],
            [
             "Partial Column (GOSAT FTS L1B V220.220)",
             "Normal",
             "GOSAT",
             "JAXA"
            ]
           ],
           "hovertemplate": "<b>%{hovertext}</b><br><br>Time=2017-01-01<br>Measurement Value=%{z}<br>latitude=%{lat}<br>longitude=%{lon}<br>Indicator Name=%{customdata[0]}<br>Indicator Value=%{customdata[1]}<br>EO Sensor=%{customdata[2]}<br>Data Provider=%{customdata[3]}<extra></extra>",
           "hovertext": [
            "Tokyo",
            "Dhaka",
            "Mumbai",
            "Shanghai",
            "New Delhi",
            "New York",
            "Beijing"
           ],
           "lat": [
            35.61,
            23.8,
            19.076,
            31.3,
            28.6448,
            40.71268,
            39.9
           ],
           "lon": [
            139.78,
            90.3,
            72.8777,
            121.4,
            77.216721,
            -74.005812,
            116.38
           ],
           "name": "",
           "opacity": 1,
           "radius": 10,
           "subplot": "mapbox",
           "type": "densitymapbox",
           "z": [
            5.06,
            5.94,
            2.74,
            8.89,
            2.33,
            5.6,
            12.77
           ]
          }
         ],
         "name": "2017-01-01"
        },
        {
         "data": [
          {
           "coloraxis": "coloraxis",
           "customdata": [
            [
             "Partial Column (GOSAT FTS L1B V220.220)",
             "Normal",
             "GOSAT",
             "JAXA"
            ],
            [
             "Partial Column (GOSAT FTS L1B V220.220)",
             "Normal",
             "GOSAT",
             "JAXA"
            ],
            [
             "Partial Column (GOSAT FTS L1B V220.220)",
             "Normal",
             "GOSAT",
             "JAXA"
            ],
            [
             "Partial Column (GOSAT FTS L1B V220.220)",
             "Normal",
             "GOSAT",
             "JAXA"
            ],
            [
             "Partial Column (GOSAT FTS L1B V220.220)",
             "Normal",
             "GOSAT",
             "JAXA"
            ],
            [
             "Partial Column (GOSAT FTS L1B V220.220)",
             "Normal",
             "GOSAT",
             "JAXA"
            ],
            [
             "Partial Column (GOSAT FTS L1B V220.220)",
             "Normal",
             "GOSAT",
             "JAXA"
            ]
           ],
           "hovertemplate": "<b>%{hovertext}</b><br><br>Time=2017-02-01<br>Measurement Value=%{z}<br>latitude=%{lat}<br>longitude=%{lon}<br>Indicator Name=%{customdata[0]}<br>Indicator Value=%{customdata[1]}<br>EO Sensor=%{customdata[2]}<br>Data Provider=%{customdata[3]}<extra></extra>",
           "hovertext": [
            "Beijing",
            "Mumbai",
            "New Delhi",
            "Shanghai",
            "New York",
            "Dhaka",
            "Tokyo"
           ],
           "lat": [
            39.9,
            19.076,
            28.6448,
            31.3,
            40.71268,
            23.8,
            35.61
           ],
           "lon": [
            116.38,
            72.8777,
            77.216721,
            121.4,
            -74.005812,
            90.3,
            139.78
           ],
           "name": "",
           "opacity": 1,
           "radius": 10,
           "subplot": "mapbox",
           "type": "densitymapbox",
           "z": [
            11.83,
            5.92,
            7.09,
            10.36,
            6.16,
            1.54,
            7.36
           ]
          }
         ],
         "name": "2017-02-01"
        },
        {
         "data": [
          {
           "coloraxis": "coloraxis",
           "customdata": [
            [
             "Partial Column (GOSAT FTS L1B V220.220)",
             "Normal",
             "GOSAT",
             "JAXA"
            ],
            [
             "Partial Column (GOSAT FTS L1B V220.220)",
             "Normal",
             "GOSAT",
             "JAXA"
            ],
            [
             "Partial Column (GOSAT FTS L1B V220.220)",
             "Normal",
             "GOSAT",
             "JAXA"
            ],
            [
             "Partial Column (GOSAT FTS L1B V220.220)",
             "Normal",
             "GOSAT",
             "JAXA"
            ],
            [
             "Partial Column (GOSAT FTS L1B V220.220)",
             "Normal",
             "GOSAT",
             "JAXA"
            ],
            [
             "Partial Column (GOSAT FTS L1B V220.220)",
             "Normal",
             "GOSAT",
             "JAXA"
            ],
            [
             "Partial Column (GOSAT FTS L1B V220.220)",
             "Normal",
             "GOSAT",
             "JAXA"
            ]
           ],
           "hovertemplate": "<b>%{hovertext}</b><br><br>Time=2017-03-01<br>Measurement Value=%{z}<br>latitude=%{lat}<br>longitude=%{lon}<br>Indicator Name=%{customdata[0]}<br>Indicator Value=%{customdata[1]}<br>EO Sensor=%{customdata[2]}<br>Data Provider=%{customdata[3]}<extra></extra>",
           "hovertext": [
            "Mumbai",
            "Dhaka",
            "New Delhi",
            "Shanghai",
            "Beijing",
            "New York",
            "Tokyo"
           ],
           "lat": [
            19.076,
            23.8,
            28.6448,
            31.3,
            39.9,
            40.71268,
            35.61
           ],
           "lon": [
            72.8777,
            90.3,
            77.216721,
            121.4,
            116.38,
            -74.005812,
            139.78
           ],
           "name": "",
           "opacity": 1,
           "radius": 10,
           "subplot": "mapbox",
           "type": "densitymapbox",
           "z": [
            3.79,
            3.14,
            1.67,
            8.35,
            12.57,
            8.79,
            8.03
           ]
          }
         ],
         "name": "2017-03-01"
        },
        {
         "data": [
          {
           "coloraxis": "coloraxis",
           "customdata": [
            [
             "Partial Column (GOSAT FTS L1B V220.220)",
             "Normal",
             "GOSAT",
             "JAXA"
            ],
            [
             "Partial Column (GOSAT FTS L1B V220.220)",
             "Normal",
             "GOSAT",
             "JAXA"
            ],
            [
             "Partial Column (GOSAT FTS L1B V220.220)",
             "Normal",
             "GOSAT",
             "JAXA"
            ],
            [
             "Partial Column (GOSAT FTS L1B V220.220)",
             "Normal",
             "GOSAT",
             "JAXA"
            ],
            [
             "Partial Column (GOSAT FTS L1B V220.220)",
             "Normal",
             "GOSAT",
             "JAXA"
            ],
            [
             "Partial Column (GOSAT FTS L1B V220.220)",
             "Normal",
             "GOSAT",
             "JAXA"
            ],
            [
             "Partial Column (GOSAT FTS L1B V220.220)",
             "Normal",
             "GOSAT",
             "JAXA"
            ]
           ],
           "hovertemplate": "<b>%{hovertext}</b><br><br>Time=2017-04-01<br>Measurement Value=%{z}<br>latitude=%{lat}<br>longitude=%{lon}<br>Indicator Name=%{customdata[0]}<br>Indicator Value=%{customdata[1]}<br>EO Sensor=%{customdata[2]}<br>Data Provider=%{customdata[3]}<extra></extra>",
           "hovertext": [
            "Beijing",
            "Dhaka",
            "New Delhi",
            "Mumbai",
            "New York",
            "Tokyo",
            "Shanghai"
           ],
           "lat": [
            39.9,
            23.8,
            28.6448,
            19.076,
            40.71268,
            35.61,
            31.3
           ],
           "lon": [
            116.38,
            90.3,
            77.216721,
            72.8777,
            -74.005812,
            139.78,
            121.4
           ],
           "name": "",
           "opacity": 1,
           "radius": 10,
           "subplot": "mapbox",
           "type": "densitymapbox",
           "z": [
            5.89,
            4.87,
            7.9,
            2.13,
            3.18,
            4.09,
            7.62
           ]
          }
         ],
         "name": "2017-04-01"
        },
        {
         "data": [
          {
           "coloraxis": "coloraxis",
           "customdata": [
            [
             "Partial Column (GOSAT FTS L1B V220.220)",
             "Normal",
             "GOSAT",
             "JAXA"
            ],
            [
             "Partial Column (GOSAT FTS L1B V220.220)",
             "Normal",
             "GOSAT",
             "JAXA"
            ],
            [
             "Partial Column (GOSAT FTS L1B V220.220)",
             "Normal",
             "GOSAT",
             "JAXA"
            ],
            [
             "Partial Column (GOSAT FTS L1B V220.220)",
             "Normal",
             "GOSAT",
             "JAXA"
            ],
            [
             "Partial Column (GOSAT FTS L1B V220.220)",
             "Normal",
             "GOSAT",
             "JAXA"
            ],
            [
             "Partial Column (GOSAT FTS L1B V220.220)",
             "Normal",
             "GOSAT",
             "JAXA"
            ]
           ],
           "hovertemplate": "<b>%{hovertext}</b><br><br>Time=2018-01-01<br>Measurement Value=%{z}<br>latitude=%{lat}<br>longitude=%{lon}<br>Indicator Name=%{customdata[0]}<br>Indicator Value=%{customdata[1]}<br>EO Sensor=%{customdata[2]}<br>Data Provider=%{customdata[3]}<extra></extra>",
           "hovertext": [
            "Tokyo",
            "Dhaka",
            "New Delhi",
            "Mumbai",
            "Beijing",
            "New York"
           ],
           "lat": [
            35.61,
            23.8,
            28.6448,
            19.076,
            39.9,
            40.71268
           ],
           "lon": [
            139.78,
            90.3,
            77.216721,
            72.8777,
            116.38,
            -74.005812
           ],
           "name": "",
           "opacity": 1,
           "radius": 10,
           "subplot": "mapbox",
           "type": "densitymapbox",
           "z": [
            4.88,
            5.41,
            4.42,
            2.66,
            8.11,
            6.25
           ]
          }
         ],
         "name": "2018-01-01"
        },
        {
         "data": [
          {
           "coloraxis": "coloraxis",
           "customdata": [
            [
             "Partial Column (GOSAT FTS L1B V220.220)",
             "Normal",
             "GOSAT",
             "JAXA"
            ],
            [
             "Partial Column (GOSAT FTS L1B V220.220)",
             "Normal",
             "GOSAT",
             "JAXA"
            ],
            [
             "Partial Column (GOSAT FTS L1B V220.220)",
             "Normal",
             "GOSAT",
             "JAXA"
            ],
            [
             "Partial Column (GOSAT FTS L1B V220.220)",
             "Normal",
             "GOSAT",
             "JAXA"
            ],
            [
             "Partial Column (GOSAT FTS L1B V220.220)",
             "Normal",
             "GOSAT",
             "JAXA"
            ],
            [
             "Partial Column (GOSAT FTS L1B V220.220)",
             "Normal",
             "GOSAT",
             "JAXA"
            ]
           ],
           "hovertemplate": "<b>%{hovertext}</b><br><br>Time=2018-02-01<br>Measurement Value=%{z}<br>latitude=%{lat}<br>longitude=%{lon}<br>Indicator Name=%{customdata[0]}<br>Indicator Value=%{customdata[1]}<br>EO Sensor=%{customdata[2]}<br>Data Provider=%{customdata[3]}<extra></extra>",
           "hovertext": [
            "Shanghai",
            "Tokyo",
            "Mumbai",
            "Beijing",
            "Dhaka",
            "New Delhi"
           ],
           "lat": [
            31.3,
            35.61,
            19.076,
            39.9,
            23.8,
            28.6448
           ],
           "lon": [
            121.4,
            139.78,
            72.8777,
            116.38,
            90.3,
            77.216721
           ],
           "name": "",
           "opacity": 1,
           "radius": 10,
           "subplot": "mapbox",
           "type": "densitymapbox",
           "z": [
            9.2,
            5.45,
            5.3,
            11.08,
            3.27,
            4.3
           ]
          }
         ],
         "name": "2018-02-01"
        },
        {
         "data": [
          {
           "coloraxis": "coloraxis",
           "customdata": [
            [
             "Partial Column (GOSAT FTS L1B V220.220)",
             "Normal",
             "GOSAT",
             "JAXA"
            ],
            [
             "Partial Column (GOSAT FTS L1B V220.220)",
             "Normal",
             "GOSAT",
             "JAXA"
            ],
            [
             "Partial Column (GOSAT FTS L1B V220.220)",
             "Normal",
             "GOSAT",
             "JAXA"
            ],
            [
             "Partial Column (GOSAT FTS L1B V220.220)",
             "Normal",
             "GOSAT",
             "JAXA"
            ],
            [
             "Partial Column (GOSAT FTS L1B V220.220)",
             "Normal",
             "GOSAT",
             "JAXA"
            ],
            [
             "Partial Column (GOSAT FTS L1B V220.220)",
             "Normal",
             "GOSAT",
             "JAXA"
            ],
            [
             "Partial Column (GOSAT FTS L1B V220.220)",
             "Normal",
             "GOSAT",
             "JAXA"
            ]
           ],
           "hovertemplate": "<b>%{hovertext}</b><br><br>Time=2018-03-01<br>Measurement Value=%{z}<br>latitude=%{lat}<br>longitude=%{lon}<br>Indicator Name=%{customdata[0]}<br>Indicator Value=%{customdata[1]}<br>EO Sensor=%{customdata[2]}<br>Data Provider=%{customdata[3]}<extra></extra>",
           "hovertext": [
            "Dhaka",
            "Mumbai",
            "Beijing",
            "Shanghai",
            "Tokyo",
            "New York",
            "New Delhi"
           ],
           "lat": [
            23.8,
            19.076,
            39.9,
            31.3,
            35.61,
            40.71268,
            28.6448
           ],
           "lon": [
            90.3,
            72.8777,
            116.38,
            121.4,
            139.78,
            -74.005812,
            77.216721
           ],
           "name": "",
           "opacity": 1,
           "radius": 10,
           "subplot": "mapbox",
           "type": "densitymapbox",
           "z": [
            3.97,
            6.5,
            13.47,
            8.61,
            7.16,
            4.84,
            1.5
           ]
          }
         ],
         "name": "2018-03-01"
        },
        {
         "data": [
          {
           "coloraxis": "coloraxis",
           "customdata": [
            [
             "Partial Column (GOSAT FTS L1B V220.220)",
             "Normal",
             "GOSAT",
             "JAXA"
            ],
            [
             "Partial Column (GOSAT FTS L1B V220.220)",
             "Normal",
             "GOSAT",
             "JAXA"
            ],
            [
             "Partial Column (GOSAT FTS L1B V220.220)",
             "Normal",
             "GOSAT",
             "JAXA"
            ],
            [
             "Partial Column (GOSAT FTS L1B V220.220)",
             "Normal",
             "GOSAT",
             "JAXA"
            ],
            [
             "Partial Column (GOSAT FTS L1B V220.220)",
             "Normal",
             "GOSAT",
             "JAXA"
            ],
            [
             "Partial Column (GOSAT FTS L1B V220.220)",
             "Normal",
             "GOSAT",
             "JAXA"
            ],
            [
             "Partial Column (GOSAT FTS L1B V220.220)",
             "Normal",
             "GOSAT",
             "JAXA"
            ]
           ],
           "hovertemplate": "<b>%{hovertext}</b><br><br>Time=2018-04-01<br>Measurement Value=%{z}<br>latitude=%{lat}<br>longitude=%{lon}<br>Indicator Name=%{customdata[0]}<br>Indicator Value=%{customdata[1]}<br>EO Sensor=%{customdata[2]}<br>Data Provider=%{customdata[3]}<extra></extra>",
           "hovertext": [
            "Shanghai",
            "New York",
            "Mumbai",
            "Tokyo",
            "Dhaka",
            "New Delhi",
            "Beijing"
           ],
           "lat": [
            31.3,
            40.71268,
            19.076,
            35.61,
            23.8,
            28.6448,
            39.9
           ],
           "lon": [
            121.4,
            -74.005812,
            72.8777,
            139.78,
            90.3,
            77.216721,
            116.38
           ],
           "name": "",
           "opacity": 1,
           "radius": 10,
           "subplot": "mapbox",
           "type": "densitymapbox",
           "z": [
            4.72,
            5.91,
            2.37,
            4.9,
            -0.17,
            5.98,
            8.54
           ]
          }
         ],
         "name": "2018-04-01"
        },
        {
         "data": [
          {
           "coloraxis": "coloraxis",
           "customdata": [
            [
             "Partial Column (GOSAT FTS L1B V220.220)",
             "Normal",
             "Jan 2016-2019 average value GOSAT",
             "JAXA"
            ],
            [
             "Partial Column (GOSAT FTS L1B V220.220)",
             "Normal",
             "Jan 2016-2019 average value GOSAT",
             "JAXA"
            ],
            [
             "Partial Column (GOSAT FTS L1B V220.220)",
             "Normal",
             "Jan 2016-2019 average value GOSAT",
             "JAXA"
            ],
            [
             "Partial Column (GOSAT FTS L1B V220.220)",
             "Normal",
             "Jan 2016-2019 average value GOSAT",
             "JAXA"
            ],
            [
             "Partial Column (GOSAT FTS L1B V220.220)",
             "Normal",
             "Jan 2016-2019 average value GOSAT",
             "JAXA"
            ],
            [
             "Partial Column (GOSAT FTS L1B V220.220)",
             "Normal",
             "Jan 2016-2019 average value GOSAT",
             "JAXA"
            ],
            [
             "Partial Column (GOSAT FTS L1B V220.220)",
             "Normal",
             "Jan 2016-2019 average value GOSAT",
             "JAXA"
            ]
           ],
           "hovertemplate": "<b>%{hovertext}</b><br><br>Time=2019-01-01<br>Measurement Value=%{z}<br>latitude=%{lat}<br>longitude=%{lon}<br>Indicator Name=%{customdata[0]}<br>Indicator Value=%{customdata[1]}<br>EO Sensor=%{customdata[2]}<br>Data Provider=%{customdata[3]}<extra></extra>",
           "hovertext": [
            "Shanghai",
            "Dhaka",
            "Mumbai",
            "Tokyo",
            "New York",
            "New Delhi",
            "Beijing"
           ],
           "lat": [
            31.3,
            23.8,
            19.076,
            35.61,
            40.71268,
            28.6448,
            39.9
           ],
           "lon": [
            121.4,
            90.3,
            72.8777,
            139.78,
            -74.005812,
            77.216721,
            116.38
           ],
           "name": "",
           "opacity": 1,
           "radius": 10,
           "subplot": "mapbox",
           "type": "densitymapbox",
           "z": [
            7.25,
            8.36,
            4.83,
            5.63,
            6.3,
            4.37,
            10.57
           ]
          }
         ],
         "name": "2019-01-01"
        },
        {
         "data": [
          {
           "coloraxis": "coloraxis",
           "customdata": [
            [
             "Partial Column (GOSAT FTS L1B V220.220)",
             "Normal",
             "Feb 2016-2019 average value GOSAT",
             "JAXA"
            ],
            [
             "Partial Column (GOSAT FTS L1B V220.220)",
             "Normal",
             "Feb 2016-2019 average value GOSAT",
             "JAXA"
            ],
            [
             "Partial Column (GOSAT FTS L1B V220.220)",
             "Normal",
             "Feb 2016-2019 average value GOSAT",
             "JAXA"
            ],
            [
             "Partial Column (GOSAT FTS L1B V220.220)",
             "Normal",
             "Feb 2016-2019 average value GOSAT",
             "JAXA"
            ],
            [
             "Partial Column (GOSAT FTS L1B V220.220)",
             "Normal",
             "Feb 2016-2019 average value GOSAT",
             "JAXA"
            ],
            [
             "Partial Column (GOSAT FTS L1B V220.220)",
             "Normal",
             "Feb 2016-2019 average value GOSAT",
             "JAXA"
            ]
           ],
           "hovertemplate": "<b>%{hovertext}</b><br><br>Time=2019-02-01<br>Measurement Value=%{z}<br>latitude=%{lat}<br>longitude=%{lon}<br>Indicator Name=%{customdata[0]}<br>Indicator Value=%{customdata[1]}<br>EO Sensor=%{customdata[2]}<br>Data Provider=%{customdata[3]}<extra></extra>",
           "hovertext": [
            "Mumbai",
            "New Delhi",
            "Tokyo",
            "Dhaka",
            "New York",
            "Beijing"
           ],
           "lat": [
            19.076,
            28.6448,
            35.61,
            23.8,
            40.71268,
            39.9
           ],
           "lon": [
            72.8777,
            77.216721,
            139.78,
            90.3,
            -74.005812,
            116.38
           ],
           "name": "",
           "opacity": 1,
           "radius": 10,
           "subplot": "mapbox",
           "type": "densitymapbox",
           "z": [
            5.38,
            -1.43,
            4.98,
            5.11,
            4.78,
            10.11
           ]
          }
         ],
         "name": "2019-02-01"
        },
        {
         "data": [
          {
           "coloraxis": "coloraxis",
           "customdata": [
            [
             "Partial Column (GOSAT FTS L1B V220.220)",
             "Normal",
             "Mar 2016-2019 average value GOSAT",
             "JAXA"
            ],
            [
             "Partial Column (GOSAT FTS L1B V220.220)",
             "Normal",
             "Mar 2016-2019 average value GOSAT",
             "JAXA"
            ],
            [
             "Partial Column (GOSAT FTS L1B V220.220)",
             "Normal",
             "Mar 2016-2019 average value GOSAT",
             "JAXA"
            ],
            [
             "Partial Column (GOSAT FTS L1B V220.220)",
             "Normal",
             "Mar 2016-2019 average value GOSAT",
             "JAXA"
            ],
            [
             "Partial Column (GOSAT FTS L1B V220.220)",
             "Normal",
             "Mar 2016-2019 average value GOSAT",
             "JAXA"
            ],
            [
             "Partial Column (GOSAT FTS L1B V220.220)",
             "Normal",
             "Mar 2016-2019 average value GOSAT",
             "JAXA"
            ],
            [
             "Partial Column (GOSAT FTS L1B V220.220)",
             "Normal",
             "Mar 2016-2019 average value GOSAT",
             "JAXA"
            ]
           ],
           "hovertemplate": "<b>%{hovertext}</b><br><br>Time=2019-03-01<br>Measurement Value=%{z}<br>latitude=%{lat}<br>longitude=%{lon}<br>Indicator Name=%{customdata[0]}<br>Indicator Value=%{customdata[1]}<br>EO Sensor=%{customdata[2]}<br>Data Provider=%{customdata[3]}<extra></extra>",
           "hovertext": [
            "Mumbai",
            "Shanghai",
            "Beijing",
            "New Delhi",
            "Tokyo",
            "Dhaka",
            "New York"
           ],
           "lat": [
            19.076,
            31.3,
            39.9,
            28.6448,
            35.61,
            23.8,
            40.71268
           ],
           "lon": [
            72.8777,
            121.4,
            116.38,
            77.216721,
            139.78,
            90.3,
            -74.005812
           ],
           "name": "",
           "opacity": 1,
           "radius": 10,
           "subplot": "mapbox",
           "type": "densitymapbox",
           "z": [
            4.37,
            7.02,
            8.71,
            2.52,
            6.43,
            3.45,
            -7.64
           ]
          }
         ],
         "name": "2019-03-01"
        },
        {
         "data": [
          {
           "coloraxis": "coloraxis",
           "customdata": [
            [
             "Partial Column (GOSAT FTS L1B V220.220)",
             "Normal",
             "Apr 2016-2019 average value GOSAT",
             "JAXA"
            ],
            [
             "Partial Column (GOSAT FTS L1B V220.220)",
             "Normal",
             "Apr 2016-2019 average value GOSAT",
             "JAXA"
            ],
            [
             "Partial Column (GOSAT FTS L1B V220.220)",
             "Normal",
             "Apr 2016-2019 average value GOSAT",
             "JAXA"
            ],
            [
             "Partial Column (GOSAT FTS L1B V220.220)",
             "Normal",
             "Apr 2016-2019 average value GOSAT",
             "JAXA"
            ],
            [
             "Partial Column (GOSAT FTS L1B V220.220)",
             "Normal",
             "Apr 2016-2019 average value GOSAT",
             "JAXA"
            ],
            [
             "Partial Column (GOSAT FTS L1B V220.220)",
             "Normal",
             "Apr 2016-2019 average value GOSAT",
             "JAXA"
            ],
            [
             "Partial Column (GOSAT FTS L1B V220.220)",
             "Normal",
             "Apr 2016-2019 average value GOSAT",
             "JAXA"
            ]
           ],
           "hovertemplate": "<b>%{hovertext}</b><br><br>Time=2019-04-01<br>Measurement Value=%{z}<br>latitude=%{lat}<br>longitude=%{lon}<br>Indicator Name=%{customdata[0]}<br>Indicator Value=%{customdata[1]}<br>EO Sensor=%{customdata[2]}<br>Data Provider=%{customdata[3]}<extra></extra>",
           "hovertext": [
            "Mumbai",
            "New York",
            "New Delhi",
            "Dhaka",
            "Beijing",
            "Shanghai",
            "Tokyo"
           ],
           "lat": [
            19.076,
            40.71268,
            28.6448,
            23.8,
            39.9,
            31.3,
            35.61
           ],
           "lon": [
            72.8777,
            -74.005812,
            77.216721,
            90.3,
            116.38,
            121.4,
            139.78
           ],
           "name": "",
           "opacity": 1,
           "radius": 10,
           "subplot": "mapbox",
           "type": "densitymapbox",
           "z": [
            2.18,
            3.85,
            5.83,
            0.61,
            6.99,
            9.49,
            4.43
           ]
          }
         ],
         "name": "2019-04-01"
        },
        {
         "data": [
          {
           "coloraxis": "coloraxis",
           "customdata": [
            [
             "Partial Column (GOSAT FTS L1B V220.220)",
             "Low",
             "January value GOSAT",
             "JAXA"
            ],
            [
             "Partial Column (GOSAT FTS L1B V220.220)",
             "Low",
             "January value GOSAT",
             "JAXA"
            ],
            [
             "Partial Column (GOSAT FTS L1B V220.220)",
             "Low",
             "January value GOSAT",
             "JAXA"
            ],
            [
             "Partial Column (GOSAT FTS L1B V220.220)",
             "Low",
             "January value GOSAT",
             "JAXA"
            ],
            [
             "Partial Column (GOSAT FTS L1B V220.220)",
             "Low",
             "January value GOSAT",
             "JAXA"
            ],
            [
             "Partial Column (GOSAT FTS L1B V220.220)",
             "Low",
             "January value GOSAT",
             "JAXA"
            ]
           ],
           "hovertemplate": "<b>%{hovertext}</b><br><br>Time=2020-01-01<br>Measurement Value=%{z}<br>latitude=%{lat}<br>longitude=%{lon}<br>Indicator Name=%{customdata[0]}<br>Indicator Value=%{customdata[1]}<br>EO Sensor=%{customdata[2]}<br>Data Provider=%{customdata[3]}<extra></extra>",
           "hovertext": [
            "Shanghai",
            "Beijing",
            "Mumbai",
            "Tokyo",
            "Dhaka",
            "New York"
           ],
           "lat": [
            31.3,
            39.9,
            19.076,
            35.61,
            23.8,
            40.71268
           ],
           "lon": [
            121.4,
            116.38,
            72.8777,
            139.78,
            90.3,
            -74.005812
           ],
           "name": "",
           "opacity": 1,
           "radius": 10,
           "subplot": "mapbox",
           "type": "densitymapbox",
           "z": [
            12.28,
            7.87,
            3.94,
            3.52,
            7.12,
            5.5
           ]
          }
         ],
         "name": "2020-01-01"
        },
        {
         "data": [
          {
           "coloraxis": "coloraxis",
           "customdata": [
            [
             "Partial Column (GOSAT FTS L1B V220.220)",
             "Low",
             "February value GOSAT",
             "JAXA"
            ],
            [
             "Partial Column (GOSAT FTS L1B V220.220)",
             "Low",
             "February value GOSAT",
             "JAXA"
            ],
            [
             "Partial Column (GOSAT FTS L1B V220.220)",
             "Low",
             "February value GOSAT",
             "JAXA"
            ],
            [
             "Partial Column (GOSAT FTS L1B V220.220)",
             "Low",
             "February value GOSAT",
             "JAXA"
            ],
            [
             "Partial Column (GOSAT FTS L1B V220.220)",
             "Low",
             "February value GOSAT",
             "JAXA"
            ],
            [
             "Partial Column (GOSAT FTS L1B V220.220)",
             "Low",
             "February value GOSAT",
             "JAXA"
            ],
            [
             "Partial Column (GOSAT FTS L1B V220.220)",
             "Low",
             "February value GOSAT",
             "JAXA"
            ]
           ],
           "hovertemplate": "<b>%{hovertext}</b><br><br>Time=2020-02-01<br>Measurement Value=%{z}<br>latitude=%{lat}<br>longitude=%{lon}<br>Indicator Name=%{customdata[0]}<br>Indicator Value=%{customdata[1]}<br>EO Sensor=%{customdata[2]}<br>Data Provider=%{customdata[3]}<extra></extra>",
           "hovertext": [
            "Shanghai",
            "Dhaka",
            "New York",
            "Beijing",
            "Mumbai",
            "New Delhi",
            "Tokyo"
           ],
           "lat": [
            31.3,
            23.8,
            40.71268,
            39.9,
            19.076,
            28.6448,
            35.61
           ],
           "lon": [
            121.4,
            90.3,
            -74.005812,
            116.38,
            72.8777,
            77.216721,
            139.78
           ],
           "name": "",
           "opacity": 1,
           "radius": 10,
           "subplot": "mapbox",
           "type": "densitymapbox",
           "z": [
            7,
            5.22,
            4.5,
            9.45,
            3.35,
            6.56,
            4.11
           ]
          }
         ],
         "name": "2020-02-01"
        },
        {
         "data": [
          {
           "coloraxis": "coloraxis",
           "customdata": [
            [
             "Partial Column (GOSAT FTS L1B V220.220)",
             "Low",
             "March value GOSAT",
             "JAXA"
            ],
            [
             "Partial Column (GOSAT FTS L1B V220.220)",
             "Low",
             "March value GOSAT",
             "JAXA"
            ],
            [
             "Partial Column (GOSAT FTS L1B V220.220)",
             "Low",
             "March value GOSAT",
             "JAXA"
            ],
            [
             "Partial Column (GOSAT FTS L1B V220.220)",
             "Low",
             "March value GOSAT",
             "JAXA"
            ],
            [
             "Partial Column (GOSAT FTS L1B V220.220)",
             "Low",
             "March value GOSAT",
             "JAXA"
            ],
            [
             "Partial Column (GOSAT FTS L1B V220.220)",
             "Low",
             "March value GOSAT",
             "JAXA"
            ],
            [
             "Partial Column (GOSAT FTS L1B V220.220)",
             "Low",
             "March value GOSAT",
             "JAXA"
            ]
           ],
           "hovertemplate": "<b>%{hovertext}</b><br><br>Time=2020-03-01<br>Measurement Value=%{z}<br>latitude=%{lat}<br>longitude=%{lon}<br>Indicator Name=%{customdata[0]}<br>Indicator Value=%{customdata[1]}<br>EO Sensor=%{customdata[2]}<br>Data Provider=%{customdata[3]}<extra></extra>",
           "hovertext": [
            "New Delhi",
            "New York",
            "Shanghai",
            "Dhaka",
            "Mumbai",
            "Tokyo",
            "Beijing"
           ],
           "lat": [
            28.6448,
            40.71268,
            31.3,
            23.8,
            19.076,
            35.61,
            39.9
           ],
           "lon": [
            77.216721,
            -74.005812,
            121.4,
            90.3,
            72.8777,
            139.78,
            116.38
           ],
           "name": "",
           "opacity": 1,
           "radius": 10,
           "subplot": "mapbox",
           "type": "densitymapbox",
           "z": [
            6.93,
            4.44,
            4.18,
            2.7,
            2.48,
            3.58,
            9.22
           ]
          }
         ],
         "name": "2020-03-01"
        },
        {
         "data": [
          {
           "coloraxis": "coloraxis",
           "customdata": [
            [
             "Partial Column (GOSAT FTS L1B V220.220)",
             "Low",
             "April value GOSAT",
             "JAXA"
            ],
            [
             "Partial Column (GOSAT FTS L1B V220.220)",
             "Low",
             "April value GOSAT",
             "JAXA"
            ],
            [
             "Partial Column (GOSAT FTS L1B V220.220)",
             "Low",
             "April value GOSAT",
             "JAXA"
            ],
            [
             "Partial Column (GOSAT FTS L1B V220.220)",
             "Low",
             "April value GOSAT",
             "JAXA"
            ],
            [
             "Partial Column (GOSAT FTS L1B V220.220)",
             "Low",
             "April value GOSAT",
             "JAXA"
            ],
            [
             "Partial Column (GOSAT FTS L1B V220.220)",
             "Low",
             "April value GOSAT",
             "JAXA"
            ]
           ],
           "hovertemplate": "<b>%{hovertext}</b><br><br>Time=2020-04-01<br>Measurement Value=%{z}<br>latitude=%{lat}<br>longitude=%{lon}<br>Indicator Name=%{customdata[0]}<br>Indicator Value=%{customdata[1]}<br>EO Sensor=%{customdata[2]}<br>Data Provider=%{customdata[3]}<extra></extra>",
           "hovertext": [
            "Dhaka",
            "Mumbai",
            "Shanghai",
            "Beijing",
            "New Delhi",
            "Tokyo"
           ],
           "lat": [
            23.8,
            19.076,
            31.3,
            39.9,
            28.6448,
            35.61
           ],
           "lon": [
            90.3,
            72.8777,
            121.4,
            116.38,
            77.216721,
            139.78
           ],
           "name": "",
           "opacity": 1,
           "radius": 10,
           "subplot": "mapbox",
           "type": "densitymapbox",
           "z": [
            0.36,
            1.54,
            4.54,
            5.82,
            3.46,
            2.96
           ]
          }
         ],
         "name": "2020-04-01"
        }
       ],
       "layout": {
        "coloraxis": {
         "colorbar": {
          "title": {
           "text": "Measurement Value"
          }
         },
         "colorscale": [
          [
           0,
           "#0d0887"
          ],
          [
           0.1111111111111111,
           "#46039f"
          ],
          [
           0.2222222222222222,
           "#7201a8"
          ],
          [
           0.3333333333333333,
           "#9c179e"
          ],
          [
           0.4444444444444444,
           "#bd3786"
          ],
          [
           0.5555555555555556,
           "#d8576b"
          ],
          [
           0.6666666666666666,
           "#ed7953"
          ],
          [
           0.7777777777777778,
           "#fb9f3a"
          ],
          [
           0.8888888888888888,
           "#fdca26"
          ],
          [
           1,
           "#f0f921"
          ]
         ]
        },
        "legend": {
         "tracegroupgap": 0
        },
        "mapbox": {
         "center": {
          "lat": 30.9402628099174,
          "lon": 80.91166179338843
         },
         "domain": {
          "x": [
           0,
           1
          ],
          "y": [
           0,
           1
          ]
         },
         "style": "carto-darkmatter",
         "zoom": 1
        },
        "margin": {
         "t": 60
        },
        "sliders": [
         {
          "active": 0,
          "currentvalue": {
           "prefix": "Time="
          },
          "len": 0.9,
          "pad": {
           "b": 10,
           "t": 60
          },
          "steps": [
           {
            "args": [
             [
              "2016-01-01"
             ],
             {
              "frame": {
               "duration": 0,
               "redraw": true
              },
              "fromcurrent": true,
              "mode": "immediate",
              "transition": {
               "duration": 0,
               "easing": "linear"
              }
             }
            ],
            "label": "2016-01-01",
            "method": "animate"
           },
           {
            "args": [
             [
              "2016-02-01"
             ],
             {
              "frame": {
               "duration": 0,
               "redraw": true
              },
              "fromcurrent": true,
              "mode": "immediate",
              "transition": {
               "duration": 0,
               "easing": "linear"
              }
             }
            ],
            "label": "2016-02-01",
            "method": "animate"
           },
           {
            "args": [
             [
              "2016-03-01"
             ],
             {
              "frame": {
               "duration": 0,
               "redraw": true
              },
              "fromcurrent": true,
              "mode": "immediate",
              "transition": {
               "duration": 0,
               "easing": "linear"
              }
             }
            ],
            "label": "2016-03-01",
            "method": "animate"
           },
           {
            "args": [
             [
              "2016-04-01"
             ],
             {
              "frame": {
               "duration": 0,
               "redraw": true
              },
              "fromcurrent": true,
              "mode": "immediate",
              "transition": {
               "duration": 0,
               "easing": "linear"
              }
             }
            ],
            "label": "2016-04-01",
            "method": "animate"
           },
           {
            "args": [
             [
              "2017-01-01"
             ],
             {
              "frame": {
               "duration": 0,
               "redraw": true
              },
              "fromcurrent": true,
              "mode": "immediate",
              "transition": {
               "duration": 0,
               "easing": "linear"
              }
             }
            ],
            "label": "2017-01-01",
            "method": "animate"
           },
           {
            "args": [
             [
              "2017-02-01"
             ],
             {
              "frame": {
               "duration": 0,
               "redraw": true
              },
              "fromcurrent": true,
              "mode": "immediate",
              "transition": {
               "duration": 0,
               "easing": "linear"
              }
             }
            ],
            "label": "2017-02-01",
            "method": "animate"
           },
           {
            "args": [
             [
              "2017-03-01"
             ],
             {
              "frame": {
               "duration": 0,
               "redraw": true
              },
              "fromcurrent": true,
              "mode": "immediate",
              "transition": {
               "duration": 0,
               "easing": "linear"
              }
             }
            ],
            "label": "2017-03-01",
            "method": "animate"
           },
           {
            "args": [
             [
              "2017-04-01"
             ],
             {
              "frame": {
               "duration": 0,
               "redraw": true
              },
              "fromcurrent": true,
              "mode": "immediate",
              "transition": {
               "duration": 0,
               "easing": "linear"
              }
             }
            ],
            "label": "2017-04-01",
            "method": "animate"
           },
           {
            "args": [
             [
              "2018-01-01"
             ],
             {
              "frame": {
               "duration": 0,
               "redraw": true
              },
              "fromcurrent": true,
              "mode": "immediate",
              "transition": {
               "duration": 0,
               "easing": "linear"
              }
             }
            ],
            "label": "2018-01-01",
            "method": "animate"
           },
           {
            "args": [
             [
              "2018-02-01"
             ],
             {
              "frame": {
               "duration": 0,
               "redraw": true
              },
              "fromcurrent": true,
              "mode": "immediate",
              "transition": {
               "duration": 0,
               "easing": "linear"
              }
             }
            ],
            "label": "2018-02-01",
            "method": "animate"
           },
           {
            "args": [
             [
              "2018-03-01"
             ],
             {
              "frame": {
               "duration": 0,
               "redraw": true
              },
              "fromcurrent": true,
              "mode": "immediate",
              "transition": {
               "duration": 0,
               "easing": "linear"
              }
             }
            ],
            "label": "2018-03-01",
            "method": "animate"
           },
           {
            "args": [
             [
              "2018-04-01"
             ],
             {
              "frame": {
               "duration": 0,
               "redraw": true
              },
              "fromcurrent": true,
              "mode": "immediate",
              "transition": {
               "duration": 0,
               "easing": "linear"
              }
             }
            ],
            "label": "2018-04-01",
            "method": "animate"
           },
           {
            "args": [
             [
              "2019-01-01"
             ],
             {
              "frame": {
               "duration": 0,
               "redraw": true
              },
              "fromcurrent": true,
              "mode": "immediate",
              "transition": {
               "duration": 0,
               "easing": "linear"
              }
             }
            ],
            "label": "2019-01-01",
            "method": "animate"
           },
           {
            "args": [
             [
              "2019-02-01"
             ],
             {
              "frame": {
               "duration": 0,
               "redraw": true
              },
              "fromcurrent": true,
              "mode": "immediate",
              "transition": {
               "duration": 0,
               "easing": "linear"
              }
             }
            ],
            "label": "2019-02-01",
            "method": "animate"
           },
           {
            "args": [
             [
              "2019-03-01"
             ],
             {
              "frame": {
               "duration": 0,
               "redraw": true
              },
              "fromcurrent": true,
              "mode": "immediate",
              "transition": {
               "duration": 0,
               "easing": "linear"
              }
             }
            ],
            "label": "2019-03-01",
            "method": "animate"
           },
           {
            "args": [
             [
              "2019-04-01"
             ],
             {
              "frame": {
               "duration": 0,
               "redraw": true
              },
              "fromcurrent": true,
              "mode": "immediate",
              "transition": {
               "duration": 0,
               "easing": "linear"
              }
             }
            ],
            "label": "2019-04-01",
            "method": "animate"
           },
           {
            "args": [
             [
              "2020-01-01"
             ],
             {
              "frame": {
               "duration": 0,
               "redraw": true
              },
              "fromcurrent": true,
              "mode": "immediate",
              "transition": {
               "duration": 0,
               "easing": "linear"
              }
             }
            ],
            "label": "2020-01-01",
            "method": "animate"
           },
           {
            "args": [
             [
              "2020-02-01"
             ],
             {
              "frame": {
               "duration": 0,
               "redraw": true
              },
              "fromcurrent": true,
              "mode": "immediate",
              "transition": {
               "duration": 0,
               "easing": "linear"
              }
             }
            ],
            "label": "2020-02-01",
            "method": "animate"
           },
           {
            "args": [
             [
              "2020-03-01"
             ],
             {
              "frame": {
               "duration": 0,
               "redraw": true
              },
              "fromcurrent": true,
              "mode": "immediate",
              "transition": {
               "duration": 0,
               "easing": "linear"
              }
             }
            ],
            "label": "2020-03-01",
            "method": "animate"
           },
           {
            "args": [
             [
              "2020-04-01"
             ],
             {
              "frame": {
               "duration": 0,
               "redraw": true
              },
              "fromcurrent": true,
              "mode": "immediate",
              "transition": {
               "duration": 0,
               "easing": "linear"
              }
             }
            ],
            "label": "2020-04-01",
            "method": "animate"
           }
          ],
          "x": 0.1,
          "xanchor": "left",
          "y": 0,
          "yanchor": "top"
         }
        ],
        "template": {
         "data": {
          "bar": [
           {
            "error_x": {
             "color": "#2a3f5f"
            },
            "error_y": {
             "color": "#2a3f5f"
            },
            "marker": {
             "line": {
              "color": "#E5ECF6",
              "width": 0.5
             },
             "pattern": {
              "fillmode": "overlay",
              "size": 10,
              "solidity": 0.2
             }
            },
            "type": "bar"
           }
          ],
          "barpolar": [
           {
            "marker": {
             "line": {
              "color": "#E5ECF6",
              "width": 0.5
             },
             "pattern": {
              "fillmode": "overlay",
              "size": 10,
              "solidity": 0.2
             }
            },
            "type": "barpolar"
           }
          ],
          "carpet": [
           {
            "aaxis": {
             "endlinecolor": "#2a3f5f",
             "gridcolor": "white",
             "linecolor": "white",
             "minorgridcolor": "white",
             "startlinecolor": "#2a3f5f"
            },
            "baxis": {
             "endlinecolor": "#2a3f5f",
             "gridcolor": "white",
             "linecolor": "white",
             "minorgridcolor": "white",
             "startlinecolor": "#2a3f5f"
            },
            "type": "carpet"
           }
          ],
          "choropleth": [
           {
            "colorbar": {
             "outlinewidth": 0,
             "ticks": ""
            },
            "type": "choropleth"
           }
          ],
          "contour": [
           {
            "colorbar": {
             "outlinewidth": 0,
             "ticks": ""
            },
            "colorscale": [
             [
              0,
              "#0d0887"
             ],
             [
              0.1111111111111111,
              "#46039f"
             ],
             [
              0.2222222222222222,
              "#7201a8"
             ],
             [
              0.3333333333333333,
              "#9c179e"
             ],
             [
              0.4444444444444444,
              "#bd3786"
             ],
             [
              0.5555555555555556,
              "#d8576b"
             ],
             [
              0.6666666666666666,
              "#ed7953"
             ],
             [
              0.7777777777777778,
              "#fb9f3a"
             ],
             [
              0.8888888888888888,
              "#fdca26"
             ],
             [
              1,
              "#f0f921"
             ]
            ],
            "type": "contour"
           }
          ],
          "contourcarpet": [
           {
            "colorbar": {
             "outlinewidth": 0,
             "ticks": ""
            },
            "type": "contourcarpet"
           }
          ],
          "heatmap": [
           {
            "colorbar": {
             "outlinewidth": 0,
             "ticks": ""
            },
            "colorscale": [
             [
              0,
              "#0d0887"
             ],
             [
              0.1111111111111111,
              "#46039f"
             ],
             [
              0.2222222222222222,
              "#7201a8"
             ],
             [
              0.3333333333333333,
              "#9c179e"
             ],
             [
              0.4444444444444444,
              "#bd3786"
             ],
             [
              0.5555555555555556,
              "#d8576b"
             ],
             [
              0.6666666666666666,
              "#ed7953"
             ],
             [
              0.7777777777777778,
              "#fb9f3a"
             ],
             [
              0.8888888888888888,
              "#fdca26"
             ],
             [
              1,
              "#f0f921"
             ]
            ],
            "type": "heatmap"
           }
          ],
          "heatmapgl": [
           {
            "colorbar": {
             "outlinewidth": 0,
             "ticks": ""
            },
            "colorscale": [
             [
              0,
              "#0d0887"
             ],
             [
              0.1111111111111111,
              "#46039f"
             ],
             [
              0.2222222222222222,
              "#7201a8"
             ],
             [
              0.3333333333333333,
              "#9c179e"
             ],
             [
              0.4444444444444444,
              "#bd3786"
             ],
             [
              0.5555555555555556,
              "#d8576b"
             ],
             [
              0.6666666666666666,
              "#ed7953"
             ],
             [
              0.7777777777777778,
              "#fb9f3a"
             ],
             [
              0.8888888888888888,
              "#fdca26"
             ],
             [
              1,
              "#f0f921"
             ]
            ],
            "type": "heatmapgl"
           }
          ],
          "histogram": [
           {
            "marker": {
             "pattern": {
              "fillmode": "overlay",
              "size": 10,
              "solidity": 0.2
             }
            },
            "type": "histogram"
           }
          ],
          "histogram2d": [
           {
            "colorbar": {
             "outlinewidth": 0,
             "ticks": ""
            },
            "colorscale": [
             [
              0,
              "#0d0887"
             ],
             [
              0.1111111111111111,
              "#46039f"
             ],
             [
              0.2222222222222222,
              "#7201a8"
             ],
             [
              0.3333333333333333,
              "#9c179e"
             ],
             [
              0.4444444444444444,
              "#bd3786"
             ],
             [
              0.5555555555555556,
              "#d8576b"
             ],
             [
              0.6666666666666666,
              "#ed7953"
             ],
             [
              0.7777777777777778,
              "#fb9f3a"
             ],
             [
              0.8888888888888888,
              "#fdca26"
             ],
             [
              1,
              "#f0f921"
             ]
            ],
            "type": "histogram2d"
           }
          ],
          "histogram2dcontour": [
           {
            "colorbar": {
             "outlinewidth": 0,
             "ticks": ""
            },
            "colorscale": [
             [
              0,
              "#0d0887"
             ],
             [
              0.1111111111111111,
              "#46039f"
             ],
             [
              0.2222222222222222,
              "#7201a8"
             ],
             [
              0.3333333333333333,
              "#9c179e"
             ],
             [
              0.4444444444444444,
              "#bd3786"
             ],
             [
              0.5555555555555556,
              "#d8576b"
             ],
             [
              0.6666666666666666,
              "#ed7953"
             ],
             [
              0.7777777777777778,
              "#fb9f3a"
             ],
             [
              0.8888888888888888,
              "#fdca26"
             ],
             [
              1,
              "#f0f921"
             ]
            ],
            "type": "histogram2dcontour"
           }
          ],
          "mesh3d": [
           {
            "colorbar": {
             "outlinewidth": 0,
             "ticks": ""
            },
            "type": "mesh3d"
           }
          ],
          "parcoords": [
           {
            "line": {
             "colorbar": {
              "outlinewidth": 0,
              "ticks": ""
             }
            },
            "type": "parcoords"
           }
          ],
          "pie": [
           {
            "automargin": true,
            "type": "pie"
           }
          ],
          "scatter": [
           {
            "marker": {
             "colorbar": {
              "outlinewidth": 0,
              "ticks": ""
             }
            },
            "type": "scatter"
           }
          ],
          "scatter3d": [
           {
            "line": {
             "colorbar": {
              "outlinewidth": 0,
              "ticks": ""
             }
            },
            "marker": {
             "colorbar": {
              "outlinewidth": 0,
              "ticks": ""
             }
            },
            "type": "scatter3d"
           }
          ],
          "scattercarpet": [
           {
            "marker": {
             "colorbar": {
              "outlinewidth": 0,
              "ticks": ""
             }
            },
            "type": "scattercarpet"
           }
          ],
          "scattergeo": [
           {
            "marker": {
             "colorbar": {
              "outlinewidth": 0,
              "ticks": ""
             }
            },
            "type": "scattergeo"
           }
          ],
          "scattergl": [
           {
            "marker": {
             "colorbar": {
              "outlinewidth": 0,
              "ticks": ""
             }
            },
            "type": "scattergl"
           }
          ],
          "scattermapbox": [
           {
            "marker": {
             "colorbar": {
              "outlinewidth": 0,
              "ticks": ""
             }
            },
            "type": "scattermapbox"
           }
          ],
          "scatterpolar": [
           {
            "marker": {
             "colorbar": {
              "outlinewidth": 0,
              "ticks": ""
             }
            },
            "type": "scatterpolar"
           }
          ],
          "scatterpolargl": [
           {
            "marker": {
             "colorbar": {
              "outlinewidth": 0,
              "ticks": ""
             }
            },
            "type": "scatterpolargl"
           }
          ],
          "scatterternary": [
           {
            "marker": {
             "colorbar": {
              "outlinewidth": 0,
              "ticks": ""
             }
            },
            "type": "scatterternary"
           }
          ],
          "surface": [
           {
            "colorbar": {
             "outlinewidth": 0,
             "ticks": ""
            },
            "colorscale": [
             [
              0,
              "#0d0887"
             ],
             [
              0.1111111111111111,
              "#46039f"
             ],
             [
              0.2222222222222222,
              "#7201a8"
             ],
             [
              0.3333333333333333,
              "#9c179e"
             ],
             [
              0.4444444444444444,
              "#bd3786"
             ],
             [
              0.5555555555555556,
              "#d8576b"
             ],
             [
              0.6666666666666666,
              "#ed7953"
             ],
             [
              0.7777777777777778,
              "#fb9f3a"
             ],
             [
              0.8888888888888888,
              "#fdca26"
             ],
             [
              1,
              "#f0f921"
             ]
            ],
            "type": "surface"
           }
          ],
          "table": [
           {
            "cells": {
             "fill": {
              "color": "#EBF0F8"
             },
             "line": {
              "color": "white"
             }
            },
            "header": {
             "fill": {
              "color": "#C8D4E3"
             },
             "line": {
              "color": "white"
             }
            },
            "type": "table"
           }
          ]
         },
         "layout": {
          "annotationdefaults": {
           "arrowcolor": "#2a3f5f",
           "arrowhead": 0,
           "arrowwidth": 1
          },
          "autotypenumbers": "strict",
          "coloraxis": {
           "colorbar": {
            "outlinewidth": 0,
            "ticks": ""
           }
          },
          "colorscale": {
           "diverging": [
            [
             0,
             "#8e0152"
            ],
            [
             0.1,
             "#c51b7d"
            ],
            [
             0.2,
             "#de77ae"
            ],
            [
             0.3,
             "#f1b6da"
            ],
            [
             0.4,
             "#fde0ef"
            ],
            [
             0.5,
             "#f7f7f7"
            ],
            [
             0.6,
             "#e6f5d0"
            ],
            [
             0.7,
             "#b8e186"
            ],
            [
             0.8,
             "#7fbc41"
            ],
            [
             0.9,
             "#4d9221"
            ],
            [
             1,
             "#276419"
            ]
           ],
           "sequential": [
            [
             0,
             "#0d0887"
            ],
            [
             0.1111111111111111,
             "#46039f"
            ],
            [
             0.2222222222222222,
             "#7201a8"
            ],
            [
             0.3333333333333333,
             "#9c179e"
            ],
            [
             0.4444444444444444,
             "#bd3786"
            ],
            [
             0.5555555555555556,
             "#d8576b"
            ],
            [
             0.6666666666666666,
             "#ed7953"
            ],
            [
             0.7777777777777778,
             "#fb9f3a"
            ],
            [
             0.8888888888888888,
             "#fdca26"
            ],
            [
             1,
             "#f0f921"
            ]
           ],
           "sequentialminus": [
            [
             0,
             "#0d0887"
            ],
            [
             0.1111111111111111,
             "#46039f"
            ],
            [
             0.2222222222222222,
             "#7201a8"
            ],
            [
             0.3333333333333333,
             "#9c179e"
            ],
            [
             0.4444444444444444,
             "#bd3786"
            ],
            [
             0.5555555555555556,
             "#d8576b"
            ],
            [
             0.6666666666666666,
             "#ed7953"
            ],
            [
             0.7777777777777778,
             "#fb9f3a"
            ],
            [
             0.8888888888888888,
             "#fdca26"
            ],
            [
             1,
             "#f0f921"
            ]
           ]
          },
          "colorway": [
           "#636efa",
           "#EF553B",
           "#00cc96",
           "#ab63fa",
           "#FFA15A",
           "#19d3f3",
           "#FF6692",
           "#B6E880",
           "#FF97FF",
           "#FECB52"
          ],
          "font": {
           "color": "#2a3f5f"
          },
          "geo": {
           "bgcolor": "white",
           "lakecolor": "white",
           "landcolor": "#E5ECF6",
           "showlakes": true,
           "showland": true,
           "subunitcolor": "white"
          },
          "hoverlabel": {
           "align": "left"
          },
          "hovermode": "closest",
          "mapbox": {
           "style": "light"
          },
          "paper_bgcolor": "white",
          "plot_bgcolor": "#E5ECF6",
          "polar": {
           "angularaxis": {
            "gridcolor": "white",
            "linecolor": "white",
            "ticks": ""
           },
           "bgcolor": "#E5ECF6",
           "radialaxis": {
            "gridcolor": "white",
            "linecolor": "white",
            "ticks": ""
           }
          },
          "scene": {
           "xaxis": {
            "backgroundcolor": "#E5ECF6",
            "gridcolor": "white",
            "gridwidth": 2,
            "linecolor": "white",
            "showbackground": true,
            "ticks": "",
            "zerolinecolor": "white"
           },
           "yaxis": {
            "backgroundcolor": "#E5ECF6",
            "gridcolor": "white",
            "gridwidth": 2,
            "linecolor": "white",
            "showbackground": true,
            "ticks": "",
            "zerolinecolor": "white"
           },
           "zaxis": {
            "backgroundcolor": "#E5ECF6",
            "gridcolor": "white",
            "gridwidth": 2,
            "linecolor": "white",
            "showbackground": true,
            "ticks": "",
            "zerolinecolor": "white"
           }
          },
          "shapedefaults": {
           "line": {
            "color": "#2a3f5f"
           }
          },
          "ternary": {
           "aaxis": {
            "gridcolor": "white",
            "linecolor": "white",
            "ticks": ""
           },
           "baxis": {
            "gridcolor": "white",
            "linecolor": "white",
            "ticks": ""
           },
           "bgcolor": "#E5ECF6",
           "caxis": {
            "gridcolor": "white",
            "linecolor": "white",
            "ticks": ""
           }
          },
          "title": {
           "x": 0.05
          },
          "xaxis": {
           "automargin": true,
           "gridcolor": "white",
           "linecolor": "white",
           "ticks": "",
           "title": {
            "standoff": 15
           },
           "zerolinecolor": "white",
           "zerolinewidth": 2
          },
          "yaxis": {
           "automargin": true,
           "gridcolor": "white",
           "linecolor": "white",
           "ticks": "",
           "title": {
            "standoff": 15
           },
           "zerolinecolor": "white",
           "zerolinewidth": 2
          }
         }
        },
        "updatemenus": [
         {
          "buttons": [
           {
            "args": [
             null,
             {
              "frame": {
               "duration": 500,
               "redraw": true
              },
              "fromcurrent": true,
              "mode": "immediate",
              "transition": {
               "duration": 500,
               "easing": "linear"
              }
             }
            ],
            "label": "&#9654;",
            "method": "animate"
           },
           {
            "args": [
             [
              null
             ],
             {
              "frame": {
               "duration": 0,
               "redraw": true
              },
              "fromcurrent": true,
              "mode": "immediate",
              "transition": {
               "duration": 0,
               "easing": "linear"
              }
             }
            ],
            "label": "&#9724;",
            "method": "animate"
           }
          ],
          "direction": "left",
          "pad": {
           "r": 10,
           "t": 70
          },
          "showactive": false,
          "type": "buttons",
          "x": 0.1,
          "xanchor": "right",
          "y": 0,
          "yanchor": "top"
         }
        ]
       }
      },
      "text/html": [
       "<div>                            <div id=\"1f98558e-7cd3-4361-a2b0-41421c86a4eb\" class=\"plotly-graph-div\" style=\"height:525px; width:100%;\"></div>            <script type=\"text/javascript\">                require([\"plotly\"], function(Plotly) {                    window.PLOTLYENV=window.PLOTLYENV || {};                                    if (document.getElementById(\"1f98558e-7cd3-4361-a2b0-41421c86a4eb\")) {                    Plotly.newPlot(                        \"1f98558e-7cd3-4361-a2b0-41421c86a4eb\",                        [{\"coloraxis\":\"coloraxis\",\"customdata\":[[\"Partial Column (GOSAT FTS L1B V220.220)\",\"Normal\",\"GOSAT\",\"JAXA\"],[\"Partial Column (GOSAT FTS L1B V220.220)\",\"Normal\",\"GOSAT\",\"JAXA\"]],\"hovertemplate\":\"<b>%{hovertext}</b><br><br>Time=2016-01-01<br>Measurement Value=%{z}<br>latitude=%{lat}<br>longitude=%{lon}<br>Indicator Name=%{customdata[0]}<br>Indicator Value=%{customdata[1]}<br>EO Sensor=%{customdata[2]}<br>Data Provider=%{customdata[3]}<extra></extra>\",\"hovertext\":[\"Mumbai\",\"Tokyo\"],\"lat\":[19.076,35.61],\"lon\":[72.8777,139.78],\"name\":\"\",\"opacity\":1,\"radius\":10,\"subplot\":\"mapbox\",\"type\":\"densitymapbox\",\"z\":[3.91,4.13]}],                        {\"coloraxis\":{\"colorbar\":{\"title\":{\"text\":\"Measurement Value\"}},\"colorscale\":[[0.0,\"#0d0887\"],[0.1111111111111111,\"#46039f\"],[0.2222222222222222,\"#7201a8\"],[0.3333333333333333,\"#9c179e\"],[0.4444444444444444,\"#bd3786\"],[0.5555555555555556,\"#d8576b\"],[0.6666666666666666,\"#ed7953\"],[0.7777777777777778,\"#fb9f3a\"],[0.8888888888888888,\"#fdca26\"],[1.0,\"#f0f921\"]]},\"legend\":{\"tracegroupgap\":0},\"mapbox\":{\"center\":{\"lat\":30.9402628099174,\"lon\":80.91166179338843},\"domain\":{\"x\":[0.0,1.0],\"y\":[0.0,1.0]},\"style\":\"carto-darkmatter\",\"zoom\":1},\"margin\":{\"t\":60},\"sliders\":[{\"active\":0,\"currentvalue\":{\"prefix\":\"Time=\"},\"len\":0.9,\"pad\":{\"b\":10,\"t\":60},\"steps\":[{\"args\":[[\"2016-01-01\"],{\"frame\":{\"duration\":0,\"redraw\":true},\"fromcurrent\":true,\"mode\":\"immediate\",\"transition\":{\"duration\":0,\"easing\":\"linear\"}}],\"label\":\"2016-01-01\",\"method\":\"animate\"},{\"args\":[[\"2016-02-01\"],{\"frame\":{\"duration\":0,\"redraw\":true},\"fromcurrent\":true,\"mode\":\"immediate\",\"transition\":{\"duration\":0,\"easing\":\"linear\"}}],\"label\":\"2016-02-01\",\"method\":\"animate\"},{\"args\":[[\"2016-03-01\"],{\"frame\":{\"duration\":0,\"redraw\":true},\"fromcurrent\":true,\"mode\":\"immediate\",\"transition\":{\"duration\":0,\"easing\":\"linear\"}}],\"label\":\"2016-03-01\",\"method\":\"animate\"},{\"args\":[[\"2016-04-01\"],{\"frame\":{\"duration\":0,\"redraw\":true},\"fromcurrent\":true,\"mode\":\"immediate\",\"transition\":{\"duration\":0,\"easing\":\"linear\"}}],\"label\":\"2016-04-01\",\"method\":\"animate\"},{\"args\":[[\"2017-01-01\"],{\"frame\":{\"duration\":0,\"redraw\":true},\"fromcurrent\":true,\"mode\":\"immediate\",\"transition\":{\"duration\":0,\"easing\":\"linear\"}}],\"label\":\"2017-01-01\",\"method\":\"animate\"},{\"args\":[[\"2017-02-01\"],{\"frame\":{\"duration\":0,\"redraw\":true},\"fromcurrent\":true,\"mode\":\"immediate\",\"transition\":{\"duration\":0,\"easing\":\"linear\"}}],\"label\":\"2017-02-01\",\"method\":\"animate\"},{\"args\":[[\"2017-03-01\"],{\"frame\":{\"duration\":0,\"redraw\":true},\"fromcurrent\":true,\"mode\":\"immediate\",\"transition\":{\"duration\":0,\"easing\":\"linear\"}}],\"label\":\"2017-03-01\",\"method\":\"animate\"},{\"args\":[[\"2017-04-01\"],{\"frame\":{\"duration\":0,\"redraw\":true},\"fromcurrent\":true,\"mode\":\"immediate\",\"transition\":{\"duration\":0,\"easing\":\"linear\"}}],\"label\":\"2017-04-01\",\"method\":\"animate\"},{\"args\":[[\"2018-01-01\"],{\"frame\":{\"duration\":0,\"redraw\":true},\"fromcurrent\":true,\"mode\":\"immediate\",\"transition\":{\"duration\":0,\"easing\":\"linear\"}}],\"label\":\"2018-01-01\",\"method\":\"animate\"},{\"args\":[[\"2018-02-01\"],{\"frame\":{\"duration\":0,\"redraw\":true},\"fromcurrent\":true,\"mode\":\"immediate\",\"transition\":{\"duration\":0,\"easing\":\"linear\"}}],\"label\":\"2018-02-01\",\"method\":\"animate\"},{\"args\":[[\"2018-03-01\"],{\"frame\":{\"duration\":0,\"redraw\":true},\"fromcurrent\":true,\"mode\":\"immediate\",\"transition\":{\"duration\":0,\"easing\":\"linear\"}}],\"label\":\"2018-03-01\",\"method\":\"animate\"},{\"args\":[[\"2018-04-01\"],{\"frame\":{\"duration\":0,\"redraw\":true},\"fromcurrent\":true,\"mode\":\"immediate\",\"transition\":{\"duration\":0,\"easing\":\"linear\"}}],\"label\":\"2018-04-01\",\"method\":\"animate\"},{\"args\":[[\"2019-01-01\"],{\"frame\":{\"duration\":0,\"redraw\":true},\"fromcurrent\":true,\"mode\":\"immediate\",\"transition\":{\"duration\":0,\"easing\":\"linear\"}}],\"label\":\"2019-01-01\",\"method\":\"animate\"},{\"args\":[[\"2019-02-01\"],{\"frame\":{\"duration\":0,\"redraw\":true},\"fromcurrent\":true,\"mode\":\"immediate\",\"transition\":{\"duration\":0,\"easing\":\"linear\"}}],\"label\":\"2019-02-01\",\"method\":\"animate\"},{\"args\":[[\"2019-03-01\"],{\"frame\":{\"duration\":0,\"redraw\":true},\"fromcurrent\":true,\"mode\":\"immediate\",\"transition\":{\"duration\":0,\"easing\":\"linear\"}}],\"label\":\"2019-03-01\",\"method\":\"animate\"},{\"args\":[[\"2019-04-01\"],{\"frame\":{\"duration\":0,\"redraw\":true},\"fromcurrent\":true,\"mode\":\"immediate\",\"transition\":{\"duration\":0,\"easing\":\"linear\"}}],\"label\":\"2019-04-01\",\"method\":\"animate\"},{\"args\":[[\"2020-01-01\"],{\"frame\":{\"duration\":0,\"redraw\":true},\"fromcurrent\":true,\"mode\":\"immediate\",\"transition\":{\"duration\":0,\"easing\":\"linear\"}}],\"label\":\"2020-01-01\",\"method\":\"animate\"},{\"args\":[[\"2020-02-01\"],{\"frame\":{\"duration\":0,\"redraw\":true},\"fromcurrent\":true,\"mode\":\"immediate\",\"transition\":{\"duration\":0,\"easing\":\"linear\"}}],\"label\":\"2020-02-01\",\"method\":\"animate\"},{\"args\":[[\"2020-03-01\"],{\"frame\":{\"duration\":0,\"redraw\":true},\"fromcurrent\":true,\"mode\":\"immediate\",\"transition\":{\"duration\":0,\"easing\":\"linear\"}}],\"label\":\"2020-03-01\",\"method\":\"animate\"},{\"args\":[[\"2020-04-01\"],{\"frame\":{\"duration\":0,\"redraw\":true},\"fromcurrent\":true,\"mode\":\"immediate\",\"transition\":{\"duration\":0,\"easing\":\"linear\"}}],\"label\":\"2020-04-01\",\"method\":\"animate\"}],\"x\":0.1,\"xanchor\":\"left\",\"y\":0,\"yanchor\":\"top\"}],\"template\":{\"data\":{\"bar\":[{\"error_x\":{\"color\":\"#2a3f5f\"},\"error_y\":{\"color\":\"#2a3f5f\"},\"marker\":{\"line\":{\"color\":\"#E5ECF6\",\"width\":0.5},\"pattern\":{\"fillmode\":\"overlay\",\"size\":10,\"solidity\":0.2}},\"type\":\"bar\"}],\"barpolar\":[{\"marker\":{\"line\":{\"color\":\"#E5ECF6\",\"width\":0.5},\"pattern\":{\"fillmode\":\"overlay\",\"size\":10,\"solidity\":0.2}},\"type\":\"barpolar\"}],\"carpet\":[{\"aaxis\":{\"endlinecolor\":\"#2a3f5f\",\"gridcolor\":\"white\",\"linecolor\":\"white\",\"minorgridcolor\":\"white\",\"startlinecolor\":\"#2a3f5f\"},\"baxis\":{\"endlinecolor\":\"#2a3f5f\",\"gridcolor\":\"white\",\"linecolor\":\"white\",\"minorgridcolor\":\"white\",\"startlinecolor\":\"#2a3f5f\"},\"type\":\"carpet\"}],\"choropleth\":[{\"colorbar\":{\"outlinewidth\":0,\"ticks\":\"\"},\"type\":\"choropleth\"}],\"contour\":[{\"colorbar\":{\"outlinewidth\":0,\"ticks\":\"\"},\"colorscale\":[[0.0,\"#0d0887\"],[0.1111111111111111,\"#46039f\"],[0.2222222222222222,\"#7201a8\"],[0.3333333333333333,\"#9c179e\"],[0.4444444444444444,\"#bd3786\"],[0.5555555555555556,\"#d8576b\"],[0.6666666666666666,\"#ed7953\"],[0.7777777777777778,\"#fb9f3a\"],[0.8888888888888888,\"#fdca26\"],[1.0,\"#f0f921\"]],\"type\":\"contour\"}],\"contourcarpet\":[{\"colorbar\":{\"outlinewidth\":0,\"ticks\":\"\"},\"type\":\"contourcarpet\"}],\"heatmap\":[{\"colorbar\":{\"outlinewidth\":0,\"ticks\":\"\"},\"colorscale\":[[0.0,\"#0d0887\"],[0.1111111111111111,\"#46039f\"],[0.2222222222222222,\"#7201a8\"],[0.3333333333333333,\"#9c179e\"],[0.4444444444444444,\"#bd3786\"],[0.5555555555555556,\"#d8576b\"],[0.6666666666666666,\"#ed7953\"],[0.7777777777777778,\"#fb9f3a\"],[0.8888888888888888,\"#fdca26\"],[1.0,\"#f0f921\"]],\"type\":\"heatmap\"}],\"heatmapgl\":[{\"colorbar\":{\"outlinewidth\":0,\"ticks\":\"\"},\"colorscale\":[[0.0,\"#0d0887\"],[0.1111111111111111,\"#46039f\"],[0.2222222222222222,\"#7201a8\"],[0.3333333333333333,\"#9c179e\"],[0.4444444444444444,\"#bd3786\"],[0.5555555555555556,\"#d8576b\"],[0.6666666666666666,\"#ed7953\"],[0.7777777777777778,\"#fb9f3a\"],[0.8888888888888888,\"#fdca26\"],[1.0,\"#f0f921\"]],\"type\":\"heatmapgl\"}],\"histogram\":[{\"marker\":{\"pattern\":{\"fillmode\":\"overlay\",\"size\":10,\"solidity\":0.2}},\"type\":\"histogram\"}],\"histogram2d\":[{\"colorbar\":{\"outlinewidth\":0,\"ticks\":\"\"},\"colorscale\":[[0.0,\"#0d0887\"],[0.1111111111111111,\"#46039f\"],[0.2222222222222222,\"#7201a8\"],[0.3333333333333333,\"#9c179e\"],[0.4444444444444444,\"#bd3786\"],[0.5555555555555556,\"#d8576b\"],[0.6666666666666666,\"#ed7953\"],[0.7777777777777778,\"#fb9f3a\"],[0.8888888888888888,\"#fdca26\"],[1.0,\"#f0f921\"]],\"type\":\"histogram2d\"}],\"histogram2dcontour\":[{\"colorbar\":{\"outlinewidth\":0,\"ticks\":\"\"},\"colorscale\":[[0.0,\"#0d0887\"],[0.1111111111111111,\"#46039f\"],[0.2222222222222222,\"#7201a8\"],[0.3333333333333333,\"#9c179e\"],[0.4444444444444444,\"#bd3786\"],[0.5555555555555556,\"#d8576b\"],[0.6666666666666666,\"#ed7953\"],[0.7777777777777778,\"#fb9f3a\"],[0.8888888888888888,\"#fdca26\"],[1.0,\"#f0f921\"]],\"type\":\"histogram2dcontour\"}],\"mesh3d\":[{\"colorbar\":{\"outlinewidth\":0,\"ticks\":\"\"},\"type\":\"mesh3d\"}],\"parcoords\":[{\"line\":{\"colorbar\":{\"outlinewidth\":0,\"ticks\":\"\"}},\"type\":\"parcoords\"}],\"pie\":[{\"automargin\":true,\"type\":\"pie\"}],\"scatter\":[{\"marker\":{\"colorbar\":{\"outlinewidth\":0,\"ticks\":\"\"}},\"type\":\"scatter\"}],\"scatter3d\":[{\"line\":{\"colorbar\":{\"outlinewidth\":0,\"ticks\":\"\"}},\"marker\":{\"colorbar\":{\"outlinewidth\":0,\"ticks\":\"\"}},\"type\":\"scatter3d\"}],\"scattercarpet\":[{\"marker\":{\"colorbar\":{\"outlinewidth\":0,\"ticks\":\"\"}},\"type\":\"scattercarpet\"}],\"scattergeo\":[{\"marker\":{\"colorbar\":{\"outlinewidth\":0,\"ticks\":\"\"}},\"type\":\"scattergeo\"}],\"scattergl\":[{\"marker\":{\"colorbar\":{\"outlinewidth\":0,\"ticks\":\"\"}},\"type\":\"scattergl\"}],\"scattermapbox\":[{\"marker\":{\"colorbar\":{\"outlinewidth\":0,\"ticks\":\"\"}},\"type\":\"scattermapbox\"}],\"scatterpolar\":[{\"marker\":{\"colorbar\":{\"outlinewidth\":0,\"ticks\":\"\"}},\"type\":\"scatterpolar\"}],\"scatterpolargl\":[{\"marker\":{\"colorbar\":{\"outlinewidth\":0,\"ticks\":\"\"}},\"type\":\"scatterpolargl\"}],\"scatterternary\":[{\"marker\":{\"colorbar\":{\"outlinewidth\":0,\"ticks\":\"\"}},\"type\":\"scatterternary\"}],\"surface\":[{\"colorbar\":{\"outlinewidth\":0,\"ticks\":\"\"},\"colorscale\":[[0.0,\"#0d0887\"],[0.1111111111111111,\"#46039f\"],[0.2222222222222222,\"#7201a8\"],[0.3333333333333333,\"#9c179e\"],[0.4444444444444444,\"#bd3786\"],[0.5555555555555556,\"#d8576b\"],[0.6666666666666666,\"#ed7953\"],[0.7777777777777778,\"#fb9f3a\"],[0.8888888888888888,\"#fdca26\"],[1.0,\"#f0f921\"]],\"type\":\"surface\"}],\"table\":[{\"cells\":{\"fill\":{\"color\":\"#EBF0F8\"},\"line\":{\"color\":\"white\"}},\"header\":{\"fill\":{\"color\":\"#C8D4E3\"},\"line\":{\"color\":\"white\"}},\"type\":\"table\"}]},\"layout\":{\"annotationdefaults\":{\"arrowcolor\":\"#2a3f5f\",\"arrowhead\":0,\"arrowwidth\":1},\"autotypenumbers\":\"strict\",\"coloraxis\":{\"colorbar\":{\"outlinewidth\":0,\"ticks\":\"\"}},\"colorscale\":{\"diverging\":[[0,\"#8e0152\"],[0.1,\"#c51b7d\"],[0.2,\"#de77ae\"],[0.3,\"#f1b6da\"],[0.4,\"#fde0ef\"],[0.5,\"#f7f7f7\"],[0.6,\"#e6f5d0\"],[0.7,\"#b8e186\"],[0.8,\"#7fbc41\"],[0.9,\"#4d9221\"],[1,\"#276419\"]],\"sequential\":[[0.0,\"#0d0887\"],[0.1111111111111111,\"#46039f\"],[0.2222222222222222,\"#7201a8\"],[0.3333333333333333,\"#9c179e\"],[0.4444444444444444,\"#bd3786\"],[0.5555555555555556,\"#d8576b\"],[0.6666666666666666,\"#ed7953\"],[0.7777777777777778,\"#fb9f3a\"],[0.8888888888888888,\"#fdca26\"],[1.0,\"#f0f921\"]],\"sequentialminus\":[[0.0,\"#0d0887\"],[0.1111111111111111,\"#46039f\"],[0.2222222222222222,\"#7201a8\"],[0.3333333333333333,\"#9c179e\"],[0.4444444444444444,\"#bd3786\"],[0.5555555555555556,\"#d8576b\"],[0.6666666666666666,\"#ed7953\"],[0.7777777777777778,\"#fb9f3a\"],[0.8888888888888888,\"#fdca26\"],[1.0,\"#f0f921\"]]},\"colorway\":[\"#636efa\",\"#EF553B\",\"#00cc96\",\"#ab63fa\",\"#FFA15A\",\"#19d3f3\",\"#FF6692\",\"#B6E880\",\"#FF97FF\",\"#FECB52\"],\"font\":{\"color\":\"#2a3f5f\"},\"geo\":{\"bgcolor\":\"white\",\"lakecolor\":\"white\",\"landcolor\":\"#E5ECF6\",\"showlakes\":true,\"showland\":true,\"subunitcolor\":\"white\"},\"hoverlabel\":{\"align\":\"left\"},\"hovermode\":\"closest\",\"mapbox\":{\"style\":\"light\"},\"paper_bgcolor\":\"white\",\"plot_bgcolor\":\"#E5ECF6\",\"polar\":{\"angularaxis\":{\"gridcolor\":\"white\",\"linecolor\":\"white\",\"ticks\":\"\"},\"bgcolor\":\"#E5ECF6\",\"radialaxis\":{\"gridcolor\":\"white\",\"linecolor\":\"white\",\"ticks\":\"\"}},\"scene\":{\"xaxis\":{\"backgroundcolor\":\"#E5ECF6\",\"gridcolor\":\"white\",\"gridwidth\":2,\"linecolor\":\"white\",\"showbackground\":true,\"ticks\":\"\",\"zerolinecolor\":\"white\"},\"yaxis\":{\"backgroundcolor\":\"#E5ECF6\",\"gridcolor\":\"white\",\"gridwidth\":2,\"linecolor\":\"white\",\"showbackground\":true,\"ticks\":\"\",\"zerolinecolor\":\"white\"},\"zaxis\":{\"backgroundcolor\":\"#E5ECF6\",\"gridcolor\":\"white\",\"gridwidth\":2,\"linecolor\":\"white\",\"showbackground\":true,\"ticks\":\"\",\"zerolinecolor\":\"white\"}},\"shapedefaults\":{\"line\":{\"color\":\"#2a3f5f\"}},\"ternary\":{\"aaxis\":{\"gridcolor\":\"white\",\"linecolor\":\"white\",\"ticks\":\"\"},\"baxis\":{\"gridcolor\":\"white\",\"linecolor\":\"white\",\"ticks\":\"\"},\"bgcolor\":\"#E5ECF6\",\"caxis\":{\"gridcolor\":\"white\",\"linecolor\":\"white\",\"ticks\":\"\"}},\"title\":{\"x\":0.05},\"xaxis\":{\"automargin\":true,\"gridcolor\":\"white\",\"linecolor\":\"white\",\"ticks\":\"\",\"title\":{\"standoff\":15},\"zerolinecolor\":\"white\",\"zerolinewidth\":2},\"yaxis\":{\"automargin\":true,\"gridcolor\":\"white\",\"linecolor\":\"white\",\"ticks\":\"\",\"title\":{\"standoff\":15},\"zerolinecolor\":\"white\",\"zerolinewidth\":2}}},\"updatemenus\":[{\"buttons\":[{\"args\":[null,{\"frame\":{\"duration\":500,\"redraw\":true},\"fromcurrent\":true,\"mode\":\"immediate\",\"transition\":{\"duration\":500,\"easing\":\"linear\"}}],\"label\":\"&#9654;\",\"method\":\"animate\"},{\"args\":[[null],{\"frame\":{\"duration\":0,\"redraw\":true},\"fromcurrent\":true,\"mode\":\"immediate\",\"transition\":{\"duration\":0,\"easing\":\"linear\"}}],\"label\":\"&#9724;\",\"method\":\"animate\"}],\"direction\":\"left\",\"pad\":{\"r\":10,\"t\":70},\"showactive\":false,\"type\":\"buttons\",\"x\":0.1,\"xanchor\":\"right\",\"y\":0,\"yanchor\":\"top\"}]},                        {\"responsive\": true}                    ).then(function(){\n",
       "                            Plotly.addFrames('1f98558e-7cd3-4361-a2b0-41421c86a4eb', [{\"data\":[{\"coloraxis\":\"coloraxis\",\"customdata\":[[\"Partial Column (GOSAT FTS L1B V220.220)\",\"Normal\",\"GOSAT\",\"JAXA\"],[\"Partial Column (GOSAT FTS L1B V220.220)\",\"Normal\",\"GOSAT\",\"JAXA\"]],\"hovertemplate\":\"<b>%{hovertext}</b><br><br>Time=2016-01-01<br>Measurement Value=%{z}<br>latitude=%{lat}<br>longitude=%{lon}<br>Indicator Name=%{customdata[0]}<br>Indicator Value=%{customdata[1]}<br>EO Sensor=%{customdata[2]}<br>Data Provider=%{customdata[3]}<extra></extra>\",\"hovertext\":[\"Mumbai\",\"Tokyo\"],\"lat\":[19.076,35.61],\"lon\":[72.8777,139.78],\"name\":\"\",\"opacity\":1,\"radius\":10,\"subplot\":\"mapbox\",\"type\":\"densitymapbox\",\"z\":[3.91,4.13]}],\"name\":\"2016-01-01\"},{\"data\":[{\"coloraxis\":\"coloraxis\",\"customdata\":[[\"Partial Column (GOSAT FTS L1B V220.220)\",\"Normal\",\"GOSAT\",\"JAXA\"],[\"Partial Column (GOSAT FTS L1B V220.220)\",\"Normal\",\"GOSAT\",\"JAXA\"]],\"hovertemplate\":\"<b>%{hovertext}</b><br><br>Time=2016-02-01<br>Measurement Value=%{z}<br>latitude=%{lat}<br>longitude=%{lon}<br>Indicator Name=%{customdata[0]}<br>Indicator Value=%{customdata[1]}<br>EO Sensor=%{customdata[2]}<br>Data Provider=%{customdata[3]}<extra></extra>\",\"hovertext\":[\"Mumbai\",\"Tokyo\"],\"lat\":[19.076,35.61],\"lon\":[72.8777,139.78],\"name\":\"\",\"opacity\":1,\"radius\":10,\"subplot\":\"mapbox\",\"type\":\"densitymapbox\",\"z\":[6.47,5.11]}],\"name\":\"2016-02-01\"},{\"data\":[{\"coloraxis\":\"coloraxis\",\"customdata\":[[\"Partial Column (GOSAT FTS L1B V220.220)\",\"Normal\",\"GOSAT\",\"JAXA\"],[\"Partial Column (GOSAT FTS L1B V220.220)\",\"Normal\",\"GOSAT\",\"JAXA\"],[\"Partial Column (GOSAT FTS L1B V220.220)\",\"Normal\",\"GOSAT\",\"JAXA\"]],\"hovertemplate\":\"<b>%{hovertext}</b><br><br>Time=2016-03-01<br>Measurement Value=%{z}<br>latitude=%{lat}<br>longitude=%{lon}<br>Indicator Name=%{customdata[0]}<br>Indicator Value=%{customdata[1]}<br>EO Sensor=%{customdata[2]}<br>Data Provider=%{customdata[3]}<extra></extra>\",\"hovertext\":[\"Mumbai\",\"New Delhi\",\"Tokyo\"],\"lat\":[19.076,28.6448,35.61],\"lon\":[72.8777,77.216721,139.78],\"name\":\"\",\"opacity\":1,\"radius\":10,\"subplot\":\"mapbox\",\"type\":\"densitymapbox\",\"z\":[2.32,0.91,5.83]}],\"name\":\"2016-03-01\"},{\"data\":[{\"coloraxis\":\"coloraxis\",\"customdata\":[[\"Partial Column (GOSAT FTS L1B V220.220)\",\"Normal\",\"GOSAT\",\"JAXA\"],[\"Partial Column (GOSAT FTS L1B V220.220)\",\"Normal\",\"GOSAT\",\"JAXA\"],[\"Partial Column (GOSAT FTS L1B V220.220)\",\"Normal\",\"GOSAT\",\"JAXA\"],[\"Partial Column (GOSAT FTS L1B V220.220)\",\"Normal\",\"GOSAT\",\"JAXA\"],[\"Partial Column (GOSAT FTS L1B V220.220)\",\"Normal\",\"GOSAT\",\"JAXA\"],[\"Partial Column (GOSAT FTS L1B V220.220)\",\"Normal\",\"GOSAT\",\"JAXA\"],[\"Partial Column (GOSAT FTS L1B V220.220)\",\"Normal\",\"GOSAT\",\"JAXA\"]],\"hovertemplate\":\"<b>%{hovertext}</b><br><br>Time=2016-04-01<br>Measurement Value=%{z}<br>latitude=%{lat}<br>longitude=%{lon}<br>Indicator Name=%{customdata[0]}<br>Indicator Value=%{customdata[1]}<br>EO Sensor=%{customdata[2]}<br>Data Provider=%{customdata[3]}<extra></extra>\",\"hovertext\":[\"Shanghai\",\"Mumbai\",\"New York\",\"Beijing\",\"Dhaka\",\"Tokyo\",\"New Delhi\"],\"lat\":[31.3,19.076,40.71268,39.9,23.8,35.61,28.6448],\"lon\":[121.4,72.8777,-74.005812,116.38,90.3,139.78,77.216721],\"name\":\"\",\"opacity\":1,\"radius\":10,\"subplot\":\"mapbox\",\"type\":\"densitymapbox\",\"z\":[4.15,3.03,5.05,6.62,-2.8,8.42,6.49]}],\"name\":\"2016-04-01\"},{\"data\":[{\"coloraxis\":\"coloraxis\",\"customdata\":[[\"Partial Column (GOSAT FTS L1B V220.220)\",\"Normal\",\"GOSAT\",\"JAXA\"],[\"Partial Column (GOSAT FTS L1B V220.220)\",\"Normal\",\"GOSAT\",\"JAXA\"],[\"Partial Column (GOSAT FTS L1B V220.220)\",\"Normal\",\"GOSAT\",\"JAXA\"],[\"Partial Column (GOSAT FTS L1B V220.220)\",\"Normal\",\"GOSAT\",\"JAXA\"],[\"Partial Column (GOSAT FTS L1B V220.220)\",\"Normal\",\"GOSAT\",\"JAXA\"],[\"Partial Column (GOSAT FTS L1B V220.220)\",\"Normal\",\"GOSAT\",\"JAXA\"],[\"Partial Column (GOSAT FTS L1B V220.220)\",\"Normal\",\"GOSAT\",\"JAXA\"]],\"hovertemplate\":\"<b>%{hovertext}</b><br><br>Time=2017-01-01<br>Measurement Value=%{z}<br>latitude=%{lat}<br>longitude=%{lon}<br>Indicator Name=%{customdata[0]}<br>Indicator Value=%{customdata[1]}<br>EO Sensor=%{customdata[2]}<br>Data Provider=%{customdata[3]}<extra></extra>\",\"hovertext\":[\"Tokyo\",\"Dhaka\",\"Mumbai\",\"Shanghai\",\"New Delhi\",\"New York\",\"Beijing\"],\"lat\":[35.61,23.8,19.076,31.3,28.6448,40.71268,39.9],\"lon\":[139.78,90.3,72.8777,121.4,77.216721,-74.005812,116.38],\"name\":\"\",\"opacity\":1,\"radius\":10,\"subplot\":\"mapbox\",\"type\":\"densitymapbox\",\"z\":[5.06,5.94,2.74,8.89,2.33,5.6,12.77]}],\"name\":\"2017-01-01\"},{\"data\":[{\"coloraxis\":\"coloraxis\",\"customdata\":[[\"Partial Column (GOSAT FTS L1B V220.220)\",\"Normal\",\"GOSAT\",\"JAXA\"],[\"Partial Column (GOSAT FTS L1B V220.220)\",\"Normal\",\"GOSAT\",\"JAXA\"],[\"Partial Column (GOSAT FTS L1B V220.220)\",\"Normal\",\"GOSAT\",\"JAXA\"],[\"Partial Column (GOSAT FTS L1B V220.220)\",\"Normal\",\"GOSAT\",\"JAXA\"],[\"Partial Column (GOSAT FTS L1B V220.220)\",\"Normal\",\"GOSAT\",\"JAXA\"],[\"Partial Column (GOSAT FTS L1B V220.220)\",\"Normal\",\"GOSAT\",\"JAXA\"],[\"Partial Column (GOSAT FTS L1B V220.220)\",\"Normal\",\"GOSAT\",\"JAXA\"]],\"hovertemplate\":\"<b>%{hovertext}</b><br><br>Time=2017-02-01<br>Measurement Value=%{z}<br>latitude=%{lat}<br>longitude=%{lon}<br>Indicator Name=%{customdata[0]}<br>Indicator Value=%{customdata[1]}<br>EO Sensor=%{customdata[2]}<br>Data Provider=%{customdata[3]}<extra></extra>\",\"hovertext\":[\"Beijing\",\"Mumbai\",\"New Delhi\",\"Shanghai\",\"New York\",\"Dhaka\",\"Tokyo\"],\"lat\":[39.9,19.076,28.6448,31.3,40.71268,23.8,35.61],\"lon\":[116.38,72.8777,77.216721,121.4,-74.005812,90.3,139.78],\"name\":\"\",\"opacity\":1,\"radius\":10,\"subplot\":\"mapbox\",\"type\":\"densitymapbox\",\"z\":[11.83,5.92,7.09,10.36,6.16,1.54,7.36]}],\"name\":\"2017-02-01\"},{\"data\":[{\"coloraxis\":\"coloraxis\",\"customdata\":[[\"Partial Column (GOSAT FTS L1B V220.220)\",\"Normal\",\"GOSAT\",\"JAXA\"],[\"Partial Column (GOSAT FTS L1B V220.220)\",\"Normal\",\"GOSAT\",\"JAXA\"],[\"Partial Column (GOSAT FTS L1B V220.220)\",\"Normal\",\"GOSAT\",\"JAXA\"],[\"Partial Column (GOSAT FTS L1B V220.220)\",\"Normal\",\"GOSAT\",\"JAXA\"],[\"Partial Column (GOSAT FTS L1B V220.220)\",\"Normal\",\"GOSAT\",\"JAXA\"],[\"Partial Column (GOSAT FTS L1B V220.220)\",\"Normal\",\"GOSAT\",\"JAXA\"],[\"Partial Column (GOSAT FTS L1B V220.220)\",\"Normal\",\"GOSAT\",\"JAXA\"]],\"hovertemplate\":\"<b>%{hovertext}</b><br><br>Time=2017-03-01<br>Measurement Value=%{z}<br>latitude=%{lat}<br>longitude=%{lon}<br>Indicator Name=%{customdata[0]}<br>Indicator Value=%{customdata[1]}<br>EO Sensor=%{customdata[2]}<br>Data Provider=%{customdata[3]}<extra></extra>\",\"hovertext\":[\"Mumbai\",\"Dhaka\",\"New Delhi\",\"Shanghai\",\"Beijing\",\"New York\",\"Tokyo\"],\"lat\":[19.076,23.8,28.6448,31.3,39.9,40.71268,35.61],\"lon\":[72.8777,90.3,77.216721,121.4,116.38,-74.005812,139.78],\"name\":\"\",\"opacity\":1,\"radius\":10,\"subplot\":\"mapbox\",\"type\":\"densitymapbox\",\"z\":[3.79,3.14,1.67,8.35,12.57,8.79,8.03]}],\"name\":\"2017-03-01\"},{\"data\":[{\"coloraxis\":\"coloraxis\",\"customdata\":[[\"Partial Column (GOSAT FTS L1B V220.220)\",\"Normal\",\"GOSAT\",\"JAXA\"],[\"Partial Column (GOSAT FTS L1B V220.220)\",\"Normal\",\"GOSAT\",\"JAXA\"],[\"Partial Column (GOSAT FTS L1B V220.220)\",\"Normal\",\"GOSAT\",\"JAXA\"],[\"Partial Column (GOSAT FTS L1B V220.220)\",\"Normal\",\"GOSAT\",\"JAXA\"],[\"Partial Column (GOSAT FTS L1B V220.220)\",\"Normal\",\"GOSAT\",\"JAXA\"],[\"Partial Column (GOSAT FTS L1B V220.220)\",\"Normal\",\"GOSAT\",\"JAXA\"],[\"Partial Column (GOSAT FTS L1B V220.220)\",\"Normal\",\"GOSAT\",\"JAXA\"]],\"hovertemplate\":\"<b>%{hovertext}</b><br><br>Time=2017-04-01<br>Measurement Value=%{z}<br>latitude=%{lat}<br>longitude=%{lon}<br>Indicator Name=%{customdata[0]}<br>Indicator Value=%{customdata[1]}<br>EO Sensor=%{customdata[2]}<br>Data Provider=%{customdata[3]}<extra></extra>\",\"hovertext\":[\"Beijing\",\"Dhaka\",\"New Delhi\",\"Mumbai\",\"New York\",\"Tokyo\",\"Shanghai\"],\"lat\":[39.9,23.8,28.6448,19.076,40.71268,35.61,31.3],\"lon\":[116.38,90.3,77.216721,72.8777,-74.005812,139.78,121.4],\"name\":\"\",\"opacity\":1,\"radius\":10,\"subplot\":\"mapbox\",\"type\":\"densitymapbox\",\"z\":[5.89,4.87,7.9,2.13,3.18,4.09,7.62]}],\"name\":\"2017-04-01\"},{\"data\":[{\"coloraxis\":\"coloraxis\",\"customdata\":[[\"Partial Column (GOSAT FTS L1B V220.220)\",\"Normal\",\"GOSAT\",\"JAXA\"],[\"Partial Column (GOSAT FTS L1B V220.220)\",\"Normal\",\"GOSAT\",\"JAXA\"],[\"Partial Column (GOSAT FTS L1B V220.220)\",\"Normal\",\"GOSAT\",\"JAXA\"],[\"Partial Column (GOSAT FTS L1B V220.220)\",\"Normal\",\"GOSAT\",\"JAXA\"],[\"Partial Column (GOSAT FTS L1B V220.220)\",\"Normal\",\"GOSAT\",\"JAXA\"],[\"Partial Column (GOSAT FTS L1B V220.220)\",\"Normal\",\"GOSAT\",\"JAXA\"]],\"hovertemplate\":\"<b>%{hovertext}</b><br><br>Time=2018-01-01<br>Measurement Value=%{z}<br>latitude=%{lat}<br>longitude=%{lon}<br>Indicator Name=%{customdata[0]}<br>Indicator Value=%{customdata[1]}<br>EO Sensor=%{customdata[2]}<br>Data Provider=%{customdata[3]}<extra></extra>\",\"hovertext\":[\"Tokyo\",\"Dhaka\",\"New Delhi\",\"Mumbai\",\"Beijing\",\"New York\"],\"lat\":[35.61,23.8,28.6448,19.076,39.9,40.71268],\"lon\":[139.78,90.3,77.216721,72.8777,116.38,-74.005812],\"name\":\"\",\"opacity\":1,\"radius\":10,\"subplot\":\"mapbox\",\"type\":\"densitymapbox\",\"z\":[4.88,5.41,4.42,2.66,8.11,6.25]}],\"name\":\"2018-01-01\"},{\"data\":[{\"coloraxis\":\"coloraxis\",\"customdata\":[[\"Partial Column (GOSAT FTS L1B V220.220)\",\"Normal\",\"GOSAT\",\"JAXA\"],[\"Partial Column (GOSAT FTS L1B V220.220)\",\"Normal\",\"GOSAT\",\"JAXA\"],[\"Partial Column (GOSAT FTS L1B V220.220)\",\"Normal\",\"GOSAT\",\"JAXA\"],[\"Partial Column (GOSAT FTS L1B V220.220)\",\"Normal\",\"GOSAT\",\"JAXA\"],[\"Partial Column (GOSAT FTS L1B V220.220)\",\"Normal\",\"GOSAT\",\"JAXA\"],[\"Partial Column (GOSAT FTS L1B V220.220)\",\"Normal\",\"GOSAT\",\"JAXA\"]],\"hovertemplate\":\"<b>%{hovertext}</b><br><br>Time=2018-02-01<br>Measurement Value=%{z}<br>latitude=%{lat}<br>longitude=%{lon}<br>Indicator Name=%{customdata[0]}<br>Indicator Value=%{customdata[1]}<br>EO Sensor=%{customdata[2]}<br>Data Provider=%{customdata[3]}<extra></extra>\",\"hovertext\":[\"Shanghai\",\"Tokyo\",\"Mumbai\",\"Beijing\",\"Dhaka\",\"New Delhi\"],\"lat\":[31.3,35.61,19.076,39.9,23.8,28.6448],\"lon\":[121.4,139.78,72.8777,116.38,90.3,77.216721],\"name\":\"\",\"opacity\":1,\"radius\":10,\"subplot\":\"mapbox\",\"type\":\"densitymapbox\",\"z\":[9.2,5.45,5.3,11.08,3.27,4.3]}],\"name\":\"2018-02-01\"},{\"data\":[{\"coloraxis\":\"coloraxis\",\"customdata\":[[\"Partial Column (GOSAT FTS L1B V220.220)\",\"Normal\",\"GOSAT\",\"JAXA\"],[\"Partial Column (GOSAT FTS L1B V220.220)\",\"Normal\",\"GOSAT\",\"JAXA\"],[\"Partial Column (GOSAT FTS L1B V220.220)\",\"Normal\",\"GOSAT\",\"JAXA\"],[\"Partial Column (GOSAT FTS L1B V220.220)\",\"Normal\",\"GOSAT\",\"JAXA\"],[\"Partial Column (GOSAT FTS L1B V220.220)\",\"Normal\",\"GOSAT\",\"JAXA\"],[\"Partial Column (GOSAT FTS L1B V220.220)\",\"Normal\",\"GOSAT\",\"JAXA\"],[\"Partial Column (GOSAT FTS L1B V220.220)\",\"Normal\",\"GOSAT\",\"JAXA\"]],\"hovertemplate\":\"<b>%{hovertext}</b><br><br>Time=2018-03-01<br>Measurement Value=%{z}<br>latitude=%{lat}<br>longitude=%{lon}<br>Indicator Name=%{customdata[0]}<br>Indicator Value=%{customdata[1]}<br>EO Sensor=%{customdata[2]}<br>Data Provider=%{customdata[3]}<extra></extra>\",\"hovertext\":[\"Dhaka\",\"Mumbai\",\"Beijing\",\"Shanghai\",\"Tokyo\",\"New York\",\"New Delhi\"],\"lat\":[23.8,19.076,39.9,31.3,35.61,40.71268,28.6448],\"lon\":[90.3,72.8777,116.38,121.4,139.78,-74.005812,77.216721],\"name\":\"\",\"opacity\":1,\"radius\":10,\"subplot\":\"mapbox\",\"type\":\"densitymapbox\",\"z\":[3.97,6.5,13.47,8.61,7.16,4.84,1.5]}],\"name\":\"2018-03-01\"},{\"data\":[{\"coloraxis\":\"coloraxis\",\"customdata\":[[\"Partial Column (GOSAT FTS L1B V220.220)\",\"Normal\",\"GOSAT\",\"JAXA\"],[\"Partial Column (GOSAT FTS L1B V220.220)\",\"Normal\",\"GOSAT\",\"JAXA\"],[\"Partial Column (GOSAT FTS L1B V220.220)\",\"Normal\",\"GOSAT\",\"JAXA\"],[\"Partial Column (GOSAT FTS L1B V220.220)\",\"Normal\",\"GOSAT\",\"JAXA\"],[\"Partial Column (GOSAT FTS L1B V220.220)\",\"Normal\",\"GOSAT\",\"JAXA\"],[\"Partial Column (GOSAT FTS L1B V220.220)\",\"Normal\",\"GOSAT\",\"JAXA\"],[\"Partial Column (GOSAT FTS L1B V220.220)\",\"Normal\",\"GOSAT\",\"JAXA\"]],\"hovertemplate\":\"<b>%{hovertext}</b><br><br>Time=2018-04-01<br>Measurement Value=%{z}<br>latitude=%{lat}<br>longitude=%{lon}<br>Indicator Name=%{customdata[0]}<br>Indicator Value=%{customdata[1]}<br>EO Sensor=%{customdata[2]}<br>Data Provider=%{customdata[3]}<extra></extra>\",\"hovertext\":[\"Shanghai\",\"New York\",\"Mumbai\",\"Tokyo\",\"Dhaka\",\"New Delhi\",\"Beijing\"],\"lat\":[31.3,40.71268,19.076,35.61,23.8,28.6448,39.9],\"lon\":[121.4,-74.005812,72.8777,139.78,90.3,77.216721,116.38],\"name\":\"\",\"opacity\":1,\"radius\":10,\"subplot\":\"mapbox\",\"type\":\"densitymapbox\",\"z\":[4.72,5.91,2.37,4.9,-0.17,5.98,8.54]}],\"name\":\"2018-04-01\"},{\"data\":[{\"coloraxis\":\"coloraxis\",\"customdata\":[[\"Partial Column (GOSAT FTS L1B V220.220)\",\"Normal\",\"Jan 2016-2019 average value GOSAT\",\"JAXA\"],[\"Partial Column (GOSAT FTS L1B V220.220)\",\"Normal\",\"Jan 2016-2019 average value GOSAT\",\"JAXA\"],[\"Partial Column (GOSAT FTS L1B V220.220)\",\"Normal\",\"Jan 2016-2019 average value GOSAT\",\"JAXA\"],[\"Partial Column (GOSAT FTS L1B V220.220)\",\"Normal\",\"Jan 2016-2019 average value GOSAT\",\"JAXA\"],[\"Partial Column (GOSAT FTS L1B V220.220)\",\"Normal\",\"Jan 2016-2019 average value GOSAT\",\"JAXA\"],[\"Partial Column (GOSAT FTS L1B V220.220)\",\"Normal\",\"Jan 2016-2019 average value GOSAT\",\"JAXA\"],[\"Partial Column (GOSAT FTS L1B V220.220)\",\"Normal\",\"Jan 2016-2019 average value GOSAT\",\"JAXA\"]],\"hovertemplate\":\"<b>%{hovertext}</b><br><br>Time=2019-01-01<br>Measurement Value=%{z}<br>latitude=%{lat}<br>longitude=%{lon}<br>Indicator Name=%{customdata[0]}<br>Indicator Value=%{customdata[1]}<br>EO Sensor=%{customdata[2]}<br>Data Provider=%{customdata[3]}<extra></extra>\",\"hovertext\":[\"Shanghai\",\"Dhaka\",\"Mumbai\",\"Tokyo\",\"New York\",\"New Delhi\",\"Beijing\"],\"lat\":[31.3,23.8,19.076,35.61,40.71268,28.6448,39.9],\"lon\":[121.4,90.3,72.8777,139.78,-74.005812,77.216721,116.38],\"name\":\"\",\"opacity\":1,\"radius\":10,\"subplot\":\"mapbox\",\"type\":\"densitymapbox\",\"z\":[7.25,8.36,4.83,5.63,6.3,4.37,10.57]}],\"name\":\"2019-01-01\"},{\"data\":[{\"coloraxis\":\"coloraxis\",\"customdata\":[[\"Partial Column (GOSAT FTS L1B V220.220)\",\"Normal\",\"Feb 2016-2019 average value GOSAT\",\"JAXA\"],[\"Partial Column (GOSAT FTS L1B V220.220)\",\"Normal\",\"Feb 2016-2019 average value GOSAT\",\"JAXA\"],[\"Partial Column (GOSAT FTS L1B V220.220)\",\"Normal\",\"Feb 2016-2019 average value GOSAT\",\"JAXA\"],[\"Partial Column (GOSAT FTS L1B V220.220)\",\"Normal\",\"Feb 2016-2019 average value GOSAT\",\"JAXA\"],[\"Partial Column (GOSAT FTS L1B V220.220)\",\"Normal\",\"Feb 2016-2019 average value GOSAT\",\"JAXA\"],[\"Partial Column (GOSAT FTS L1B V220.220)\",\"Normal\",\"Feb 2016-2019 average value GOSAT\",\"JAXA\"]],\"hovertemplate\":\"<b>%{hovertext}</b><br><br>Time=2019-02-01<br>Measurement Value=%{z}<br>latitude=%{lat}<br>longitude=%{lon}<br>Indicator Name=%{customdata[0]}<br>Indicator Value=%{customdata[1]}<br>EO Sensor=%{customdata[2]}<br>Data Provider=%{customdata[3]}<extra></extra>\",\"hovertext\":[\"Mumbai\",\"New Delhi\",\"Tokyo\",\"Dhaka\",\"New York\",\"Beijing\"],\"lat\":[19.076,28.6448,35.61,23.8,40.71268,39.9],\"lon\":[72.8777,77.216721,139.78,90.3,-74.005812,116.38],\"name\":\"\",\"opacity\":1,\"radius\":10,\"subplot\":\"mapbox\",\"type\":\"densitymapbox\",\"z\":[5.38,-1.43,4.98,5.11,4.78,10.11]}],\"name\":\"2019-02-01\"},{\"data\":[{\"coloraxis\":\"coloraxis\",\"customdata\":[[\"Partial Column (GOSAT FTS L1B V220.220)\",\"Normal\",\"Mar 2016-2019 average value GOSAT\",\"JAXA\"],[\"Partial Column (GOSAT FTS L1B V220.220)\",\"Normal\",\"Mar 2016-2019 average value GOSAT\",\"JAXA\"],[\"Partial Column (GOSAT FTS L1B V220.220)\",\"Normal\",\"Mar 2016-2019 average value GOSAT\",\"JAXA\"],[\"Partial Column (GOSAT FTS L1B V220.220)\",\"Normal\",\"Mar 2016-2019 average value GOSAT\",\"JAXA\"],[\"Partial Column (GOSAT FTS L1B V220.220)\",\"Normal\",\"Mar 2016-2019 average value GOSAT\",\"JAXA\"],[\"Partial Column (GOSAT FTS L1B V220.220)\",\"Normal\",\"Mar 2016-2019 average value GOSAT\",\"JAXA\"],[\"Partial Column (GOSAT FTS L1B V220.220)\",\"Normal\",\"Mar 2016-2019 average value GOSAT\",\"JAXA\"]],\"hovertemplate\":\"<b>%{hovertext}</b><br><br>Time=2019-03-01<br>Measurement Value=%{z}<br>latitude=%{lat}<br>longitude=%{lon}<br>Indicator Name=%{customdata[0]}<br>Indicator Value=%{customdata[1]}<br>EO Sensor=%{customdata[2]}<br>Data Provider=%{customdata[3]}<extra></extra>\",\"hovertext\":[\"Mumbai\",\"Shanghai\",\"Beijing\",\"New Delhi\",\"Tokyo\",\"Dhaka\",\"New York\"],\"lat\":[19.076,31.3,39.9,28.6448,35.61,23.8,40.71268],\"lon\":[72.8777,121.4,116.38,77.216721,139.78,90.3,-74.005812],\"name\":\"\",\"opacity\":1,\"radius\":10,\"subplot\":\"mapbox\",\"type\":\"densitymapbox\",\"z\":[4.37,7.02,8.71,2.52,6.43,3.45,-7.64]}],\"name\":\"2019-03-01\"},{\"data\":[{\"coloraxis\":\"coloraxis\",\"customdata\":[[\"Partial Column (GOSAT FTS L1B V220.220)\",\"Normal\",\"Apr 2016-2019 average value GOSAT\",\"JAXA\"],[\"Partial Column (GOSAT FTS L1B V220.220)\",\"Normal\",\"Apr 2016-2019 average value GOSAT\",\"JAXA\"],[\"Partial Column (GOSAT FTS L1B V220.220)\",\"Normal\",\"Apr 2016-2019 average value GOSAT\",\"JAXA\"],[\"Partial Column (GOSAT FTS L1B V220.220)\",\"Normal\",\"Apr 2016-2019 average value GOSAT\",\"JAXA\"],[\"Partial Column (GOSAT FTS L1B V220.220)\",\"Normal\",\"Apr 2016-2019 average value GOSAT\",\"JAXA\"],[\"Partial Column (GOSAT FTS L1B V220.220)\",\"Normal\",\"Apr 2016-2019 average value GOSAT\",\"JAXA\"],[\"Partial Column (GOSAT FTS L1B V220.220)\",\"Normal\",\"Apr 2016-2019 average value GOSAT\",\"JAXA\"]],\"hovertemplate\":\"<b>%{hovertext}</b><br><br>Time=2019-04-01<br>Measurement Value=%{z}<br>latitude=%{lat}<br>longitude=%{lon}<br>Indicator Name=%{customdata[0]}<br>Indicator Value=%{customdata[1]}<br>EO Sensor=%{customdata[2]}<br>Data Provider=%{customdata[3]}<extra></extra>\",\"hovertext\":[\"Mumbai\",\"New York\",\"New Delhi\",\"Dhaka\",\"Beijing\",\"Shanghai\",\"Tokyo\"],\"lat\":[19.076,40.71268,28.6448,23.8,39.9,31.3,35.61],\"lon\":[72.8777,-74.005812,77.216721,90.3,116.38,121.4,139.78],\"name\":\"\",\"opacity\":1,\"radius\":10,\"subplot\":\"mapbox\",\"type\":\"densitymapbox\",\"z\":[2.18,3.85,5.83,0.61,6.99,9.49,4.43]}],\"name\":\"2019-04-01\"},{\"data\":[{\"coloraxis\":\"coloraxis\",\"customdata\":[[\"Partial Column (GOSAT FTS L1B V220.220)\",\"Low\",\"January value GOSAT\",\"JAXA\"],[\"Partial Column (GOSAT FTS L1B V220.220)\",\"Low\",\"January value GOSAT\",\"JAXA\"],[\"Partial Column (GOSAT FTS L1B V220.220)\",\"Low\",\"January value GOSAT\",\"JAXA\"],[\"Partial Column (GOSAT FTS L1B V220.220)\",\"Low\",\"January value GOSAT\",\"JAXA\"],[\"Partial Column (GOSAT FTS L1B V220.220)\",\"Low\",\"January value GOSAT\",\"JAXA\"],[\"Partial Column (GOSAT FTS L1B V220.220)\",\"Low\",\"January value GOSAT\",\"JAXA\"]],\"hovertemplate\":\"<b>%{hovertext}</b><br><br>Time=2020-01-01<br>Measurement Value=%{z}<br>latitude=%{lat}<br>longitude=%{lon}<br>Indicator Name=%{customdata[0]}<br>Indicator Value=%{customdata[1]}<br>EO Sensor=%{customdata[2]}<br>Data Provider=%{customdata[3]}<extra></extra>\",\"hovertext\":[\"Shanghai\",\"Beijing\",\"Mumbai\",\"Tokyo\",\"Dhaka\",\"New York\"],\"lat\":[31.3,39.9,19.076,35.61,23.8,40.71268],\"lon\":[121.4,116.38,72.8777,139.78,90.3,-74.005812],\"name\":\"\",\"opacity\":1,\"radius\":10,\"subplot\":\"mapbox\",\"type\":\"densitymapbox\",\"z\":[12.28,7.87,3.94,3.52,7.12,5.5]}],\"name\":\"2020-01-01\"},{\"data\":[{\"coloraxis\":\"coloraxis\",\"customdata\":[[\"Partial Column (GOSAT FTS L1B V220.220)\",\"Low\",\"February value GOSAT\",\"JAXA\"],[\"Partial Column (GOSAT FTS L1B V220.220)\",\"Low\",\"February value GOSAT\",\"JAXA\"],[\"Partial Column (GOSAT FTS L1B V220.220)\",\"Low\",\"February value GOSAT\",\"JAXA\"],[\"Partial Column (GOSAT FTS L1B V220.220)\",\"Low\",\"February value GOSAT\",\"JAXA\"],[\"Partial Column (GOSAT FTS L1B V220.220)\",\"Low\",\"February value GOSAT\",\"JAXA\"],[\"Partial Column (GOSAT FTS L1B V220.220)\",\"Low\",\"February value GOSAT\",\"JAXA\"],[\"Partial Column (GOSAT FTS L1B V220.220)\",\"Low\",\"February value GOSAT\",\"JAXA\"]],\"hovertemplate\":\"<b>%{hovertext}</b><br><br>Time=2020-02-01<br>Measurement Value=%{z}<br>latitude=%{lat}<br>longitude=%{lon}<br>Indicator Name=%{customdata[0]}<br>Indicator Value=%{customdata[1]}<br>EO Sensor=%{customdata[2]}<br>Data Provider=%{customdata[3]}<extra></extra>\",\"hovertext\":[\"Shanghai\",\"Dhaka\",\"New York\",\"Beijing\",\"Mumbai\",\"New Delhi\",\"Tokyo\"],\"lat\":[31.3,23.8,40.71268,39.9,19.076,28.6448,35.61],\"lon\":[121.4,90.3,-74.005812,116.38,72.8777,77.216721,139.78],\"name\":\"\",\"opacity\":1,\"radius\":10,\"subplot\":\"mapbox\",\"type\":\"densitymapbox\",\"z\":[7.0,5.22,4.5,9.45,3.35,6.56,4.11]}],\"name\":\"2020-02-01\"},{\"data\":[{\"coloraxis\":\"coloraxis\",\"customdata\":[[\"Partial Column (GOSAT FTS L1B V220.220)\",\"Low\",\"March value GOSAT\",\"JAXA\"],[\"Partial Column (GOSAT FTS L1B V220.220)\",\"Low\",\"March value GOSAT\",\"JAXA\"],[\"Partial Column (GOSAT FTS L1B V220.220)\",\"Low\",\"March value GOSAT\",\"JAXA\"],[\"Partial Column (GOSAT FTS L1B V220.220)\",\"Low\",\"March value GOSAT\",\"JAXA\"],[\"Partial Column (GOSAT FTS L1B V220.220)\",\"Low\",\"March value GOSAT\",\"JAXA\"],[\"Partial Column (GOSAT FTS L1B V220.220)\",\"Low\",\"March value GOSAT\",\"JAXA\"],[\"Partial Column (GOSAT FTS L1B V220.220)\",\"Low\",\"March value GOSAT\",\"JAXA\"]],\"hovertemplate\":\"<b>%{hovertext}</b><br><br>Time=2020-03-01<br>Measurement Value=%{z}<br>latitude=%{lat}<br>longitude=%{lon}<br>Indicator Name=%{customdata[0]}<br>Indicator Value=%{customdata[1]}<br>EO Sensor=%{customdata[2]}<br>Data Provider=%{customdata[3]}<extra></extra>\",\"hovertext\":[\"New Delhi\",\"New York\",\"Shanghai\",\"Dhaka\",\"Mumbai\",\"Tokyo\",\"Beijing\"],\"lat\":[28.6448,40.71268,31.3,23.8,19.076,35.61,39.9],\"lon\":[77.216721,-74.005812,121.4,90.3,72.8777,139.78,116.38],\"name\":\"\",\"opacity\":1,\"radius\":10,\"subplot\":\"mapbox\",\"type\":\"densitymapbox\",\"z\":[6.93,4.44,4.18,2.7,2.48,3.58,9.22]}],\"name\":\"2020-03-01\"},{\"data\":[{\"coloraxis\":\"coloraxis\",\"customdata\":[[\"Partial Column (GOSAT FTS L1B V220.220)\",\"Low\",\"April value GOSAT\",\"JAXA\"],[\"Partial Column (GOSAT FTS L1B V220.220)\",\"Low\",\"April value GOSAT\",\"JAXA\"],[\"Partial Column (GOSAT FTS L1B V220.220)\",\"Low\",\"April value GOSAT\",\"JAXA\"],[\"Partial Column (GOSAT FTS L1B V220.220)\",\"Low\",\"April value GOSAT\",\"JAXA\"],[\"Partial Column (GOSAT FTS L1B V220.220)\",\"Low\",\"April value GOSAT\",\"JAXA\"],[\"Partial Column (GOSAT FTS L1B V220.220)\",\"Low\",\"April value GOSAT\",\"JAXA\"]],\"hovertemplate\":\"<b>%{hovertext}</b><br><br>Time=2020-04-01<br>Measurement Value=%{z}<br>latitude=%{lat}<br>longitude=%{lon}<br>Indicator Name=%{customdata[0]}<br>Indicator Value=%{customdata[1]}<br>EO Sensor=%{customdata[2]}<br>Data Provider=%{customdata[3]}<extra></extra>\",\"hovertext\":[\"Dhaka\",\"Mumbai\",\"Shanghai\",\"Beijing\",\"New Delhi\",\"Tokyo\"],\"lat\":[23.8,19.076,31.3,39.9,28.6448,35.61],\"lon\":[90.3,72.8777,121.4,116.38,77.216721,139.78],\"name\":\"\",\"opacity\":1,\"radius\":10,\"subplot\":\"mapbox\",\"type\":\"densitymapbox\",\"z\":[0.36,1.54,4.54,5.82,3.46,2.96]}],\"name\":\"2020-04-01\"}]);\n",
       "                        }).then(function(){\n",
       "                            \n",
       "var gd = document.getElementById('1f98558e-7cd3-4361-a2b0-41421c86a4eb');\n",
       "var x = new MutationObserver(function (mutations, observer) {{\n",
       "        var display = window.getComputedStyle(gd).display;\n",
       "        if (!display || display === 'none') {{\n",
       "            console.log([gd, 'removed!']);\n",
       "            Plotly.purge(gd);\n",
       "            observer.disconnect();\n",
       "        }}\n",
       "}});\n",
       "\n",
       "// Listen for the removal of the full notebook cells\n",
       "var notebookContainer = gd.closest('#notebook-container');\n",
       "if (notebookContainer) {{\n",
       "    x.observe(notebookContainer, {childList: true});\n",
       "}}\n",
       "\n",
       "// Listen for the clearing of the current output cell\n",
       "var outputEl = gd.closest('.output');\n",
       "if (outputEl) {{\n",
       "    x.observe(outputEl, {childList: true});\n",
       "}}\n",
       "\n",
       "                        })                };                });            </script>        </div>"
      ]
     },
     "metadata": {},
     "output_type": "display_data"
    }
   ],
   "source": [
    "map_fig = px.density_mapbox(df_dropped, lat = \"latitude\" , lon = \"longitude\" , z = \"Measurement Value\",\n",
    "                          mapbox_style = \"carto-darkmatter\",\n",
    "                            radius = 10,\n",
    "                            opacity = 1,\n",
    "                            zoom = 1,\n",
    "                          animation_frame = \"Time\",\n",
    "                          hover_name = \"City\",\n",
    "                          hover_data = [\"Indicator Name\",\"Indicator Value\", \"EO Sensor\", \"Data Provider\"])\n",
    "map_fig.show()"
   ]
  },
  {
   "cell_type": "code",
   "execution_count": 43,
   "metadata": {},
   "outputs": [
    {
     "data": {
      "text/plain": [
       "'air.html'"
      ]
     },
     "execution_count": 43,
     "metadata": {},
     "output_type": "execute_result"
    }
   ],
   "source": [
    "plotly.offline.plot(map_fig , filename= \"air.html\" ,auto_open = True)"
   ]
  },
  {
   "cell_type": "code",
   "execution_count": null,
   "metadata": {},
   "outputs": [],
   "source": []
  }
 ],
 "metadata": {
  "kernelspec": {
   "display_name": "Python 3",
   "language": "python",
   "name": "python3"
  },
  "language_info": {
   "codemirror_mode": {
    "name": "ipython",
    "version": 3
   },
   "file_extension": ".py",
   "mimetype": "text/x-python",
   "name": "python",
   "nbconvert_exporter": "python",
   "pygments_lexer": "ipython3",
   "version": "3.8.3"
  }
 },
 "nbformat": 4,
 "nbformat_minor": 4
}
